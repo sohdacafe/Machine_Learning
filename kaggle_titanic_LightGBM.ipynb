{
  "nbformat": 4,
  "nbformat_minor": 0,
  "metadata": {
    "colab": {
      "name": "kaggle_titanic_LightGBM.ipynb",
      "provenance": [],
      "collapsed_sections": [],
      "authorship_tag": "ABX9TyOeWswRW3bNXAx/QS8TjnXH",
      "include_colab_link": true
    },
    "kernelspec": {
      "name": "python3",
      "display_name": "Python 3"
    },
    "language_info": {
      "name": "python"
    }
  },
  "cells": [
    {
      "cell_type": "markdown",
      "metadata": {
        "id": "view-in-github",
        "colab_type": "text"
      },
      "source": [
        "<a href=\"https://colab.research.google.com/github/sohdacafe/Machine_Learning/blob/main/kaggle_titanic_LightGBM.ipynb\" target=\"_parent\"><img src=\"https://colab.research.google.com/assets/colab-badge.svg\" alt=\"Open In Colab\"/></a>"
      ]
    },
    {
      "cell_type": "code",
      "metadata": {
        "id": "vOZjNUxhqxxN"
      },
      "source": [
        "import pandas as pd\n",
        "import numpy as np\n",
        "import matplotlib.pyplot as plt\n",
        "import seaborn as sns"
      ],
      "execution_count": 1,
      "outputs": []
    },
    {
      "cell_type": "code",
      "metadata": {
        "colab": {
          "base_uri": "https://localhost:8080/",
          "height": 203
        },
        "id": "hYh-VoqyrMBl",
        "outputId": "95973375-8b17-4f11-e63d-0934e32d3e3e"
      },
      "source": [
        "filename = 'train.csv'\n",
        "_df = pd.read_csv(filename)\n",
        "df = _df[['Survived', 'Pclass', 'Sex', 'Age', 'SibSp', 'Parch', 'Fare', 'Embarked']]\n",
        "df.head()"
      ],
      "execution_count": 48,
      "outputs": [
        {
          "output_type": "execute_result",
          "data": {
            "text/html": [
              "<div>\n",
              "<style scoped>\n",
              "    .dataframe tbody tr th:only-of-type {\n",
              "        vertical-align: middle;\n",
              "    }\n",
              "\n",
              "    .dataframe tbody tr th {\n",
              "        vertical-align: top;\n",
              "    }\n",
              "\n",
              "    .dataframe thead th {\n",
              "        text-align: right;\n",
              "    }\n",
              "</style>\n",
              "<table border=\"1\" class=\"dataframe\">\n",
              "  <thead>\n",
              "    <tr style=\"text-align: right;\">\n",
              "      <th></th>\n",
              "      <th>Survived</th>\n",
              "      <th>Pclass</th>\n",
              "      <th>Sex</th>\n",
              "      <th>Age</th>\n",
              "      <th>SibSp</th>\n",
              "      <th>Parch</th>\n",
              "      <th>Fare</th>\n",
              "      <th>Embarked</th>\n",
              "    </tr>\n",
              "  </thead>\n",
              "  <tbody>\n",
              "    <tr>\n",
              "      <th>0</th>\n",
              "      <td>0</td>\n",
              "      <td>3</td>\n",
              "      <td>male</td>\n",
              "      <td>22.0</td>\n",
              "      <td>1</td>\n",
              "      <td>0</td>\n",
              "      <td>7.2500</td>\n",
              "      <td>S</td>\n",
              "    </tr>\n",
              "    <tr>\n",
              "      <th>1</th>\n",
              "      <td>1</td>\n",
              "      <td>1</td>\n",
              "      <td>female</td>\n",
              "      <td>38.0</td>\n",
              "      <td>1</td>\n",
              "      <td>0</td>\n",
              "      <td>71.2833</td>\n",
              "      <td>C</td>\n",
              "    </tr>\n",
              "    <tr>\n",
              "      <th>2</th>\n",
              "      <td>1</td>\n",
              "      <td>3</td>\n",
              "      <td>female</td>\n",
              "      <td>26.0</td>\n",
              "      <td>0</td>\n",
              "      <td>0</td>\n",
              "      <td>7.9250</td>\n",
              "      <td>S</td>\n",
              "    </tr>\n",
              "    <tr>\n",
              "      <th>3</th>\n",
              "      <td>1</td>\n",
              "      <td>1</td>\n",
              "      <td>female</td>\n",
              "      <td>35.0</td>\n",
              "      <td>1</td>\n",
              "      <td>0</td>\n",
              "      <td>53.1000</td>\n",
              "      <td>S</td>\n",
              "    </tr>\n",
              "    <tr>\n",
              "      <th>4</th>\n",
              "      <td>0</td>\n",
              "      <td>3</td>\n",
              "      <td>male</td>\n",
              "      <td>35.0</td>\n",
              "      <td>0</td>\n",
              "      <td>0</td>\n",
              "      <td>8.0500</td>\n",
              "      <td>S</td>\n",
              "    </tr>\n",
              "  </tbody>\n",
              "</table>\n",
              "</div>"
            ],
            "text/plain": [
              "   Survived  Pclass     Sex   Age  SibSp  Parch     Fare Embarked\n",
              "0         0       3    male  22.0      1      0   7.2500        S\n",
              "1         1       1  female  38.0      1      0  71.2833        C\n",
              "2         1       3  female  26.0      0      0   7.9250        S\n",
              "3         1       1  female  35.0      1      0  53.1000        S\n",
              "4         0       3    male  35.0      0      0   8.0500        S"
            ]
          },
          "metadata": {},
          "execution_count": 48
        }
      ]
    },
    {
      "cell_type": "code",
      "metadata": {
        "colab": {
          "base_uri": "https://localhost:8080/"
        },
        "id": "aNGTNhou04Q6",
        "outputId": "e32c8362-f951-4b8e-a65d-eeef05d95fbc"
      },
      "source": [
        "df['Embarked'].unique()"
      ],
      "execution_count": 49,
      "outputs": [
        {
          "output_type": "execute_result",
          "data": {
            "text/plain": [
              "array(['S', 'C', 'Q', nan], dtype=object)"
            ]
          },
          "metadata": {},
          "execution_count": 49
        }
      ]
    },
    {
      "cell_type": "code",
      "metadata": {
        "colab": {
          "base_uri": "https://localhost:8080/"
        },
        "id": "t2PVEXPYz48x",
        "outputId": "ec0ee39e-72c8-44fb-8b3d-d94df73badb1"
      },
      "source": [
        "# カテゴリ変数に変換\n",
        "df['Sex'] = pd.get_dummies(df['Sex']).drop('female', axis=1)\n",
        "df_emb = pd.get_dummies(df['Embarked']).drop('Q', axis=1)\n",
        "df = pd.concat([df, df_emb], axis=1)\n",
        "df = df.drop('Embarked', axis=1)"
      ],
      "execution_count": 50,
      "outputs": [
        {
          "output_type": "stream",
          "name": "stderr",
          "text": [
            "/usr/local/lib/python3.7/dist-packages/ipykernel_launcher.py:2: SettingWithCopyWarning: \n",
            "A value is trying to be set on a copy of a slice from a DataFrame.\n",
            "Try using .loc[row_indexer,col_indexer] = value instead\n",
            "\n",
            "See the caveats in the documentation: https://pandas.pydata.org/pandas-docs/stable/user_guide/indexing.html#returning-a-view-versus-a-copy\n",
            "  \n"
          ]
        }
      ]
    },
    {
      "cell_type": "code",
      "metadata": {
        "colab": {
          "base_uri": "https://localhost:8080/",
          "height": 419
        },
        "id": "HCSrxwHq18N4",
        "outputId": "78f12814-b3d3-4cda-e196-39e616602eb6"
      },
      "source": [
        "df"
      ],
      "execution_count": 51,
      "outputs": [
        {
          "output_type": "execute_result",
          "data": {
            "text/html": [
              "<div>\n",
              "<style scoped>\n",
              "    .dataframe tbody tr th:only-of-type {\n",
              "        vertical-align: middle;\n",
              "    }\n",
              "\n",
              "    .dataframe tbody tr th {\n",
              "        vertical-align: top;\n",
              "    }\n",
              "\n",
              "    .dataframe thead th {\n",
              "        text-align: right;\n",
              "    }\n",
              "</style>\n",
              "<table border=\"1\" class=\"dataframe\">\n",
              "  <thead>\n",
              "    <tr style=\"text-align: right;\">\n",
              "      <th></th>\n",
              "      <th>Survived</th>\n",
              "      <th>Pclass</th>\n",
              "      <th>Sex</th>\n",
              "      <th>Age</th>\n",
              "      <th>SibSp</th>\n",
              "      <th>Parch</th>\n",
              "      <th>Fare</th>\n",
              "      <th>C</th>\n",
              "      <th>S</th>\n",
              "    </tr>\n",
              "  </thead>\n",
              "  <tbody>\n",
              "    <tr>\n",
              "      <th>0</th>\n",
              "      <td>0</td>\n",
              "      <td>3</td>\n",
              "      <td>1</td>\n",
              "      <td>22.0</td>\n",
              "      <td>1</td>\n",
              "      <td>0</td>\n",
              "      <td>7.2500</td>\n",
              "      <td>0</td>\n",
              "      <td>1</td>\n",
              "    </tr>\n",
              "    <tr>\n",
              "      <th>1</th>\n",
              "      <td>1</td>\n",
              "      <td>1</td>\n",
              "      <td>0</td>\n",
              "      <td>38.0</td>\n",
              "      <td>1</td>\n",
              "      <td>0</td>\n",
              "      <td>71.2833</td>\n",
              "      <td>1</td>\n",
              "      <td>0</td>\n",
              "    </tr>\n",
              "    <tr>\n",
              "      <th>2</th>\n",
              "      <td>1</td>\n",
              "      <td>3</td>\n",
              "      <td>0</td>\n",
              "      <td>26.0</td>\n",
              "      <td>0</td>\n",
              "      <td>0</td>\n",
              "      <td>7.9250</td>\n",
              "      <td>0</td>\n",
              "      <td>1</td>\n",
              "    </tr>\n",
              "    <tr>\n",
              "      <th>3</th>\n",
              "      <td>1</td>\n",
              "      <td>1</td>\n",
              "      <td>0</td>\n",
              "      <td>35.0</td>\n",
              "      <td>1</td>\n",
              "      <td>0</td>\n",
              "      <td>53.1000</td>\n",
              "      <td>0</td>\n",
              "      <td>1</td>\n",
              "    </tr>\n",
              "    <tr>\n",
              "      <th>4</th>\n",
              "      <td>0</td>\n",
              "      <td>3</td>\n",
              "      <td>1</td>\n",
              "      <td>35.0</td>\n",
              "      <td>0</td>\n",
              "      <td>0</td>\n",
              "      <td>8.0500</td>\n",
              "      <td>0</td>\n",
              "      <td>1</td>\n",
              "    </tr>\n",
              "    <tr>\n",
              "      <th>...</th>\n",
              "      <td>...</td>\n",
              "      <td>...</td>\n",
              "      <td>...</td>\n",
              "      <td>...</td>\n",
              "      <td>...</td>\n",
              "      <td>...</td>\n",
              "      <td>...</td>\n",
              "      <td>...</td>\n",
              "      <td>...</td>\n",
              "    </tr>\n",
              "    <tr>\n",
              "      <th>886</th>\n",
              "      <td>0</td>\n",
              "      <td>2</td>\n",
              "      <td>1</td>\n",
              "      <td>27.0</td>\n",
              "      <td>0</td>\n",
              "      <td>0</td>\n",
              "      <td>13.0000</td>\n",
              "      <td>0</td>\n",
              "      <td>1</td>\n",
              "    </tr>\n",
              "    <tr>\n",
              "      <th>887</th>\n",
              "      <td>1</td>\n",
              "      <td>1</td>\n",
              "      <td>0</td>\n",
              "      <td>19.0</td>\n",
              "      <td>0</td>\n",
              "      <td>0</td>\n",
              "      <td>30.0000</td>\n",
              "      <td>0</td>\n",
              "      <td>1</td>\n",
              "    </tr>\n",
              "    <tr>\n",
              "      <th>888</th>\n",
              "      <td>0</td>\n",
              "      <td>3</td>\n",
              "      <td>0</td>\n",
              "      <td>NaN</td>\n",
              "      <td>1</td>\n",
              "      <td>2</td>\n",
              "      <td>23.4500</td>\n",
              "      <td>0</td>\n",
              "      <td>1</td>\n",
              "    </tr>\n",
              "    <tr>\n",
              "      <th>889</th>\n",
              "      <td>1</td>\n",
              "      <td>1</td>\n",
              "      <td>1</td>\n",
              "      <td>26.0</td>\n",
              "      <td>0</td>\n",
              "      <td>0</td>\n",
              "      <td>30.0000</td>\n",
              "      <td>1</td>\n",
              "      <td>0</td>\n",
              "    </tr>\n",
              "    <tr>\n",
              "      <th>890</th>\n",
              "      <td>0</td>\n",
              "      <td>3</td>\n",
              "      <td>1</td>\n",
              "      <td>32.0</td>\n",
              "      <td>0</td>\n",
              "      <td>0</td>\n",
              "      <td>7.7500</td>\n",
              "      <td>0</td>\n",
              "      <td>0</td>\n",
              "    </tr>\n",
              "  </tbody>\n",
              "</table>\n",
              "<p>891 rows × 9 columns</p>\n",
              "</div>"
            ],
            "text/plain": [
              "     Survived  Pclass  Sex   Age  SibSp  Parch     Fare  C  S\n",
              "0           0       3    1  22.0      1      0   7.2500  0  1\n",
              "1           1       1    0  38.0      1      0  71.2833  1  0\n",
              "2           1       3    0  26.0      0      0   7.9250  0  1\n",
              "3           1       1    0  35.0      1      0  53.1000  0  1\n",
              "4           0       3    1  35.0      0      0   8.0500  0  1\n",
              "..        ...     ...  ...   ...    ...    ...      ... .. ..\n",
              "886         0       2    1  27.0      0      0  13.0000  0  1\n",
              "887         1       1    0  19.0      0      0  30.0000  0  1\n",
              "888         0       3    0   NaN      1      2  23.4500  0  1\n",
              "889         1       1    1  26.0      0      0  30.0000  1  0\n",
              "890         0       3    1  32.0      0      0   7.7500  0  0\n",
              "\n",
              "[891 rows x 9 columns]"
            ]
          },
          "metadata": {},
          "execution_count": 51
        }
      ]
    },
    {
      "cell_type": "code",
      "metadata": {
        "id": "vlf90PALyvnX"
      },
      "source": [
        "from sklearn.model_selection import train_test_split\n",
        "t = df['Survived'].values\n",
        "X = df.drop(labels=['Survived'], axis=1)\n",
        "X_train, X_test,t_train, t_test = train_test_split(X, t, test_size=0.3, random_state=0)"
      ],
      "execution_count": 52,
      "outputs": []
    },
    {
      "cell_type": "code",
      "metadata": {
        "id": "JAxK1MWiyvxp"
      },
      "source": [
        "import lightgbm as lgb\n",
        "trains = lgb.Dataset(X_train, t_train)\n",
        "valids = lgb.Dataset(X_test, t_test)"
      ],
      "execution_count": 53,
      "outputs": []
    },
    {
      "cell_type": "code",
      "metadata": {
        "colab": {
          "base_uri": "https://localhost:8080/"
        },
        "id": "BxDPFJ2fyv6j",
        "outputId": "a20cf784-76a9-4f4f-bfce-be22321365e7"
      },
      "source": [
        "params = {'objective':'regression', 'metrics':'mae'}\n",
        "model = lgb.train(params, trains, valid_sets=valids, num_boost_round=100, early_stopping_rounds=10)"
      ],
      "execution_count": 54,
      "outputs": [
        {
          "output_type": "stream",
          "name": "stdout",
          "text": [
            "[1]\tvalid_0's l1: 0.450588\n",
            "Training until validation scores don't improve for 10 rounds.\n",
            "[2]\tvalid_0's l1: 0.431559\n",
            "[3]\tvalid_0's l1: 0.414864\n",
            "[4]\tvalid_0's l1: 0.39961\n",
            "[5]\tvalid_0's l1: 0.385347\n",
            "[6]\tvalid_0's l1: 0.372588\n",
            "[7]\tvalid_0's l1: 0.361764\n",
            "[8]\tvalid_0's l1: 0.350608\n",
            "[9]\tvalid_0's l1: 0.341135\n",
            "[10]\tvalid_0's l1: 0.332769\n",
            "[11]\tvalid_0's l1: 0.324765\n",
            "[12]\tvalid_0's l1: 0.317063\n",
            "[13]\tvalid_0's l1: 0.310236\n",
            "[14]\tvalid_0's l1: 0.304506\n",
            "[15]\tvalid_0's l1: 0.298526\n",
            "[16]\tvalid_0's l1: 0.29368\n",
            "[17]\tvalid_0's l1: 0.289013\n",
            "[18]\tvalid_0's l1: 0.284526\n",
            "[19]\tvalid_0's l1: 0.280995\n",
            "[20]\tvalid_0's l1: 0.277491\n",
            "[21]\tvalid_0's l1: 0.274377\n",
            "[22]\tvalid_0's l1: 0.271966\n",
            "[23]\tvalid_0's l1: 0.268548\n",
            "[24]\tvalid_0's l1: 0.266101\n",
            "[25]\tvalid_0's l1: 0.264107\n",
            "[26]\tvalid_0's l1: 0.262781\n",
            "[27]\tvalid_0's l1: 0.26118\n",
            "[28]\tvalid_0's l1: 0.260507\n",
            "[29]\tvalid_0's l1: 0.259715\n",
            "[30]\tvalid_0's l1: 0.259079\n",
            "[31]\tvalid_0's l1: 0.257621\n",
            "[32]\tvalid_0's l1: 0.256584\n",
            "[33]\tvalid_0's l1: 0.255754\n",
            "[34]\tvalid_0's l1: 0.255332\n",
            "[35]\tvalid_0's l1: 0.255242\n",
            "[36]\tvalid_0's l1: 0.254529\n",
            "[37]\tvalid_0's l1: 0.253878\n",
            "[38]\tvalid_0's l1: 0.252899\n",
            "[39]\tvalid_0's l1: 0.252217\n",
            "[40]\tvalid_0's l1: 0.251795\n",
            "[41]\tvalid_0's l1: 0.251671\n",
            "[42]\tvalid_0's l1: 0.25182\n",
            "[43]\tvalid_0's l1: 0.251782\n",
            "[44]\tvalid_0's l1: 0.251856\n",
            "[45]\tvalid_0's l1: 0.251213\n",
            "[46]\tvalid_0's l1: 0.251782\n",
            "[47]\tvalid_0's l1: 0.252133\n",
            "[48]\tvalid_0's l1: 0.251429\n",
            "[49]\tvalid_0's l1: 0.250589\n",
            "[50]\tvalid_0's l1: 0.250923\n",
            "[51]\tvalid_0's l1: 0.251021\n",
            "[52]\tvalid_0's l1: 0.250738\n",
            "[53]\tvalid_0's l1: 0.250819\n",
            "[54]\tvalid_0's l1: 0.25091\n",
            "[55]\tvalid_0's l1: 0.251137\n",
            "[56]\tvalid_0's l1: 0.251351\n",
            "[57]\tvalid_0's l1: 0.251451\n",
            "[58]\tvalid_0's l1: 0.251716\n",
            "[59]\tvalid_0's l1: 0.25208\n",
            "Early stopping, best iteration is:\n",
            "[49]\tvalid_0's l1: 0.250589\n"
          ]
        }
      ]
    },
    {
      "cell_type": "code",
      "metadata": {
        "id": "e21a28I-5PaK"
      },
      "source": [
        "# 予測値をroundで四捨五入し、int型に変換\n",
        "pred = model.predict(X_test).round(0)\n",
        "pred = list(map(int,pred))"
      ],
      "execution_count": 62,
      "outputs": []
    },
    {
      "cell_type": "code",
      "metadata": {
        "id": "BWV3QwGx6_7g"
      },
      "source": [
        "# testファイルからの予測"
      ],
      "execution_count": null,
      "outputs": []
    },
    {
      "cell_type": "code",
      "metadata": {
        "id": "HphHAmzb7AEi"
      },
      "source": [
        "filename = 'test.csv'\n",
        "df_test = pd.read_csv(filename)\n",
        "df_test = df_test[['Pclass', 'Sex', 'Age', 'SibSp', 'Parch', 'Fare', 'Embarked']]\n",
        "# カテゴリ変数に変換\n",
        "df_test['Sex'] = pd.get_dummies(df_test['Sex']).drop('female', axis=1)\n",
        "df_emb = pd.get_dummies(df_test['Embarked']).drop('Q', axis=1)\n",
        "df_test = pd.concat([df_test, df_emb], axis=1)\n",
        "df_test = df_test.drop('Embarked', axis=1)"
      ],
      "execution_count": 68,
      "outputs": []
    },
    {
      "cell_type": "code",
      "metadata": {
        "id": "1SVFy3ws7AMB"
      },
      "source": [
        "pred = model.predict(df_test).round(0)\n",
        "pred = list(map(int,pred))"
      ],
      "execution_count": 69,
      "outputs": []
    },
    {
      "cell_type": "code",
      "metadata": {
        "id": "x7IcqVzv5C8s"
      },
      "source": [
        "# 予測値入力、提出ファイル出力\n",
        "df_gen = pd.read_csv('gender_submission.csv')\n",
        "df_gen['Survived'] =pred\n",
        "df_gen.to_csv('gender_submission_4.csv', index=False)"
      ],
      "execution_count": 71,
      "outputs": []
    },
    {
      "cell_type": "code",
      "metadata": {
        "id": "lc-zNkkE5C_H"
      },
      "source": [
        ""
      ],
      "execution_count": null,
      "outputs": []
    },
    {
      "cell_type": "code",
      "metadata": {
        "id": "FENAcfi05DCu"
      },
      "source": [
        ""
      ],
      "execution_count": null,
      "outputs": []
    },
    {
      "cell_type": "code",
      "metadata": {
        "colab": {
          "base_uri": "https://localhost:8080/"
        },
        "id": "_Ujns0RUrPjk",
        "outputId": "a93eb567-7d41-4b7f-f15f-295cc6617417"
      },
      "source": [
        "# 相関性の低いカラムを削除\n",
        "columns = df_train.columns\n",
        "for column in columns:\n",
        "    if df_train[column].dtypes == object :\n",
        "        continue\n",
        "    else:\n",
        "        corr_v = df_train.corr()[column]['Survived']\n",
        "        print(column, corr_v)\n",
        "        if corr_v < 0.5 and corr_v > -0.5:\n",
        "            df_train = df_train.drop(column, axis=1)\n",
        "            drop_col.append(column)\n",
        "print(drop_col)"
      ],
      "execution_count": null,
      "outputs": [
        {
          "output_type": "stream",
          "name": "stdout",
          "text": [
            "PassengerId -0.005006660767066476\n",
            "Survived 1.0\n",
            "Pclass -0.33848103596101586\n",
            "Age -0.07722109457217737\n",
            "SibSp -0.03532249888573588\n",
            "Parch 0.08162940708348222\n",
            "Fare 0.2573065223849618\n",
            "['Cabin', 'PassengerId', 'Pclass', 'Age', 'SibSp', 'Parch', 'Fare']\n"
          ]
        }
      ]
    },
    {
      "cell_type": "code",
      "metadata": {
        "colab": {
          "base_uri": "https://localhost:8080/",
          "height": 419
        },
        "id": "TkoUCdu7rPmv",
        "outputId": "4157a698-a8cf-4094-d064-c4a61e0bcfe7"
      },
      "source": [
        "df_train"
      ],
      "execution_count": null,
      "outputs": [
        {
          "output_type": "execute_result",
          "data": {
            "text/html": [
              "<div>\n",
              "<style scoped>\n",
              "    .dataframe tbody tr th:only-of-type {\n",
              "        vertical-align: middle;\n",
              "    }\n",
              "\n",
              "    .dataframe tbody tr th {\n",
              "        vertical-align: top;\n",
              "    }\n",
              "\n",
              "    .dataframe thead th {\n",
              "        text-align: right;\n",
              "    }\n",
              "</style>\n",
              "<table border=\"1\" class=\"dataframe\">\n",
              "  <thead>\n",
              "    <tr style=\"text-align: right;\">\n",
              "      <th></th>\n",
              "      <th>Survived</th>\n",
              "      <th>Name</th>\n",
              "      <th>Sex</th>\n",
              "      <th>Ticket</th>\n",
              "      <th>Embarked</th>\n",
              "    </tr>\n",
              "  </thead>\n",
              "  <tbody>\n",
              "    <tr>\n",
              "      <th>0</th>\n",
              "      <td>0</td>\n",
              "      <td>Braund, Mr. Owen Harris</td>\n",
              "      <td>male</td>\n",
              "      <td>A/5 21171</td>\n",
              "      <td>S</td>\n",
              "    </tr>\n",
              "    <tr>\n",
              "      <th>1</th>\n",
              "      <td>1</td>\n",
              "      <td>Cumings, Mrs. John Bradley (Florence Briggs Th...</td>\n",
              "      <td>female</td>\n",
              "      <td>PC 17599</td>\n",
              "      <td>C</td>\n",
              "    </tr>\n",
              "    <tr>\n",
              "      <th>2</th>\n",
              "      <td>1</td>\n",
              "      <td>Heikkinen, Miss. Laina</td>\n",
              "      <td>female</td>\n",
              "      <td>STON/O2. 3101282</td>\n",
              "      <td>S</td>\n",
              "    </tr>\n",
              "    <tr>\n",
              "      <th>3</th>\n",
              "      <td>1</td>\n",
              "      <td>Futrelle, Mrs. Jacques Heath (Lily May Peel)</td>\n",
              "      <td>female</td>\n",
              "      <td>113803</td>\n",
              "      <td>S</td>\n",
              "    </tr>\n",
              "    <tr>\n",
              "      <th>4</th>\n",
              "      <td>0</td>\n",
              "      <td>Allen, Mr. William Henry</td>\n",
              "      <td>male</td>\n",
              "      <td>373450</td>\n",
              "      <td>S</td>\n",
              "    </tr>\n",
              "    <tr>\n",
              "      <th>...</th>\n",
              "      <td>...</td>\n",
              "      <td>...</td>\n",
              "      <td>...</td>\n",
              "      <td>...</td>\n",
              "      <td>...</td>\n",
              "    </tr>\n",
              "    <tr>\n",
              "      <th>886</th>\n",
              "      <td>0</td>\n",
              "      <td>Montvila, Rev. Juozas</td>\n",
              "      <td>male</td>\n",
              "      <td>211536</td>\n",
              "      <td>S</td>\n",
              "    </tr>\n",
              "    <tr>\n",
              "      <th>887</th>\n",
              "      <td>1</td>\n",
              "      <td>Graham, Miss. Margaret Edith</td>\n",
              "      <td>female</td>\n",
              "      <td>112053</td>\n",
              "      <td>S</td>\n",
              "    </tr>\n",
              "    <tr>\n",
              "      <th>888</th>\n",
              "      <td>0</td>\n",
              "      <td>Johnston, Miss. Catherine Helen \"Carrie\"</td>\n",
              "      <td>female</td>\n",
              "      <td>W./C. 6607</td>\n",
              "      <td>S</td>\n",
              "    </tr>\n",
              "    <tr>\n",
              "      <th>889</th>\n",
              "      <td>1</td>\n",
              "      <td>Behr, Mr. Karl Howell</td>\n",
              "      <td>male</td>\n",
              "      <td>111369</td>\n",
              "      <td>C</td>\n",
              "    </tr>\n",
              "    <tr>\n",
              "      <th>890</th>\n",
              "      <td>0</td>\n",
              "      <td>Dooley, Mr. Patrick</td>\n",
              "      <td>male</td>\n",
              "      <td>370376</td>\n",
              "      <td>Q</td>\n",
              "    </tr>\n",
              "  </tbody>\n",
              "</table>\n",
              "<p>891 rows × 5 columns</p>\n",
              "</div>"
            ],
            "text/plain": [
              "     Survived  ... Embarked\n",
              "0           0  ...        S\n",
              "1           1  ...        C\n",
              "2           1  ...        S\n",
              "3           1  ...        S\n",
              "4           0  ...        S\n",
              "..        ...  ...      ...\n",
              "886         0  ...        S\n",
              "887         1  ...        S\n",
              "888         0  ...        S\n",
              "889         1  ...        C\n",
              "890         0  ...        Q\n",
              "\n",
              "[891 rows x 5 columns]"
            ]
          },
          "metadata": {},
          "execution_count": 16
        }
      ]
    },
    {
      "cell_type": "code",
      "metadata": {
        "id": "ZfFPoHG4rPpn"
      },
      "source": [
        ""
      ],
      "execution_count": null,
      "outputs": []
    },
    {
      "cell_type": "code",
      "metadata": {
        "id": "Y9KhcYWnrPsz"
      },
      "source": [
        ""
      ],
      "execution_count": null,
      "outputs": []
    },
    {
      "cell_type": "code",
      "metadata": {
        "id": "f070Mn-1rPv-"
      },
      "source": [
        ""
      ],
      "execution_count": null,
      "outputs": []
    }
  ]
}