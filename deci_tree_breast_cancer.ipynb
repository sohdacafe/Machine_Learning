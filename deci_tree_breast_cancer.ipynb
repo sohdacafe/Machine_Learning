{
  "nbformat": 4,
  "nbformat_minor": 0,
  "metadata": {
    "colab": {
      "name": "deci_tree_breast_cancer.ipynb",
      "provenance": [],
      "collapsed_sections": [],
      "authorship_tag": "ABX9TyMPwuwh4iOq5W234qmTsxMw",
      "include_colab_link": true
    },
    "kernelspec": {
      "name": "python3",
      "display_name": "Python 3"
    },
    "language_info": {
      "name": "python"
    }
  },
  "cells": [
    {
      "cell_type": "markdown",
      "metadata": {
        "id": "view-in-github",
        "colab_type": "text"
      },
      "source": [
        "<a href=\"https://colab.research.google.com/github/sohdacafe/Machine_Learning/blob/main/deci_tree_breast_cancer.ipynb\" target=\"_parent\"><img src=\"https://colab.research.google.com/assets/colab-badge.svg\" alt=\"Open In Colab\"/></a>"
      ]
    },
    {
      "cell_type": "code",
      "metadata": {
        "id": "tjpnwQZIhrHA"
      },
      "source": [
        "import pandas as pd\n",
        "import numpy as np\n",
        "import matplotlib.pyplot as plt"
      ],
      "execution_count": 7,
      "outputs": []
    },
    {
      "cell_type": "code",
      "metadata": {
        "id": "C0au_t34hypN"
      },
      "source": [
        "from sklearn.datasets import  load_breast_cancer"
      ],
      "execution_count": 8,
      "outputs": []
    },
    {
      "cell_type": "code",
      "metadata": {
        "id": "gLtTUUshnbxE"
      },
      "source": [
        "dataset = load_breast_cancer()\n",
        "dataset"
      ],
      "execution_count": null,
      "outputs": []
    },
    {
      "cell_type": "code",
      "metadata": {
        "id": "eXe5ULPzh5-k"
      },
      "source": [
        "t = dataset.target\n",
        "x = dataset.data"
      ],
      "execution_count": 14,
      "outputs": []
    },
    {
      "cell_type": "code",
      "metadata": {
        "colab": {
          "base_uri": "https://localhost:8080/"
        },
        "id": "gUXRHe4-2wiC",
        "outputId": "5a2ff0a1-e45c-4d13-90d9-92bb92fd86df"
      },
      "source": [
        "x.shape, t.shape"
      ],
      "execution_count": 15,
      "outputs": [
        {
          "output_type": "execute_result",
          "data": {
            "text/plain": [
              "((569, 30), (569,))"
            ]
          },
          "metadata": {},
          "execution_count": 15
        }
      ]
    },
    {
      "cell_type": "code",
      "metadata": {
        "id": "0YKJiuix3H-I"
      },
      "source": [
        "from sklearn.model_selection import train_test_split\n",
        "x_train_val, x_test, t_train_val, t_test = train_test_split(x, t, test_size=0.2, random_state=1)"
      ],
      "execution_count": 16,
      "outputs": []
    },
    {
      "cell_type": "code",
      "metadata": {
        "colab": {
          "base_uri": "https://localhost:8080/"
        },
        "id": "iAR7OGDz3mq7",
        "outputId": "139d8bb1-487b-483d-ff4e-583761674b67"
      },
      "source": [
        "x_train_val.shape, x_test.shape"
      ],
      "execution_count": 17,
      "outputs": [
        {
          "output_type": "execute_result",
          "data": {
            "text/plain": [
              "((455, 30), (114, 30))"
            ]
          },
          "metadata": {},
          "execution_count": 17
        }
      ]
    },
    {
      "cell_type": "code",
      "metadata": {
        "id": "eAUPWa2Q3tdg"
      },
      "source": [
        "x_train, x_val, t_train, t_val = train_test_split(x_train_val, t_train_val, test_size=0.3, random_state=1)"
      ],
      "execution_count": 18,
      "outputs": []
    },
    {
      "cell_type": "code",
      "metadata": {
        "colab": {
          "base_uri": "https://localhost:8080/"
        },
        "id": "jAGgUtCW4Cx7",
        "outputId": "5a72e0a3-9346-41dd-d044-b9e1b98e053f"
      },
      "source": [
        "x_train.shape, x_val.shape, x_test.shape"
      ],
      "execution_count": 19,
      "outputs": [
        {
          "output_type": "execute_result",
          "data": {
            "text/plain": [
              "((318, 30), (137, 30), (114, 30))"
            ]
          },
          "metadata": {},
          "execution_count": 19
        }
      ]
    },
    {
      "cell_type": "code",
      "metadata": {
        "colab": {
          "base_uri": "https://localhost:8080/"
        },
        "id": "-n1fZnLD4Mgg",
        "outputId": "ce4ae6ef-a33b-46c6-d4c6-0732fa1c644a"
      },
      "source": [
        "from sklearn.tree import DecisionTreeClassifier\n",
        "dtree = DecisionTreeClassifier(max_depth=10, min_samples_split=30, random_state=0)\n",
        "dtree.fit(x_train, t_train)"
      ],
      "execution_count": 23,
      "outputs": [
        {
          "output_type": "execute_result",
          "data": {
            "text/plain": [
              "DecisionTreeClassifier(ccp_alpha=0.0, class_weight=None, criterion='gini',\n",
              "                       max_depth=10, max_features=None, max_leaf_nodes=None,\n",
              "                       min_impurity_decrease=0.0, min_impurity_split=None,\n",
              "                       min_samples_leaf=1, min_samples_split=30,\n",
              "                       min_weight_fraction_leaf=0.0, presort='deprecated',\n",
              "                       random_state=0, splitter='best')"
            ]
          },
          "metadata": {},
          "execution_count": 23
        }
      ]
    },
    {
      "cell_type": "code",
      "metadata": {
        "colab": {
          "base_uri": "https://localhost:8080/"
        },
        "id": "q2O_47L94mQE",
        "outputId": "7b4300cc-5de0-4c59-a78a-8b0e3a6f1a43"
      },
      "source": [
        "print(f'train score: {dtree.score(x_train, t_train)}')\n",
        "print(f'val score: {dtree.score(x_val, t_val)}')\n",
        "print(f'test score: {dtree.score(x_test, t_test)}')"
      ],
      "execution_count": 25,
      "outputs": [
        {
          "output_type": "stream",
          "name": "stdout",
          "text": [
            "train score: 0.9308176100628931\n",
            "val score: 0.9562043795620438\n",
            "test score: 0.9298245614035088\n"
          ]
        }
      ]
    },
    {
      "cell_type": "code",
      "metadata": {
        "id": "6G4DTGP449NE"
      },
      "source": [
        "# グリッドサーチ、ハイパーパラメータの調整方法"
      ],
      "execution_count": null,
      "outputs": []
    },
    {
      "cell_type": "code",
      "metadata": {
        "id": "gkKvQWXY5v3N"
      },
      "source": [
        "from sklearn.model_selection import GridSearchCV"
      ],
      "execution_count": 26,
      "outputs": []
    },
    {
      "cell_type": "code",
      "metadata": {
        "id": "4ZLTBgCO6rrc"
      },
      "source": [
        "estimator = DecisionTreeClassifier(random_state = 0)\n",
        "param_grid = [{'max_depth' : [3,20,50], 'min_samples_split':[3,20,30]}]\n",
        "cv =5"
      ],
      "execution_count": 40,
      "outputs": []
    },
    {
      "cell_type": "code",
      "metadata": {
        "colab": {
          "base_uri": "https://localhost:8080/"
        },
        "id": "AyztBEJl5v6Q",
        "outputId": "1f186e96-f53e-490d-ab7b-560badacabcf"
      },
      "source": [
        "tuned_model = GridSearchCV(estimator = estimator, param_grid=param_grid, cv=cv, return_train_score=False)\n",
        "tuned_model.fit(x_train_val, t_train_val)"
      ],
      "execution_count": 41,
      "outputs": [
        {
          "output_type": "execute_result",
          "data": {
            "text/plain": [
              "GridSearchCV(cv=5, error_score=nan,\n",
              "             estimator=DecisionTreeClassifier(ccp_alpha=0.0, class_weight=None,\n",
              "                                              criterion='gini', max_depth=None,\n",
              "                                              max_features=None,\n",
              "                                              max_leaf_nodes=None,\n",
              "                                              min_impurity_decrease=0.0,\n",
              "                                              min_impurity_split=None,\n",
              "                                              min_samples_leaf=1,\n",
              "                                              min_samples_split=2,\n",
              "                                              min_weight_fraction_leaf=0.0,\n",
              "                                              presort='deprecated',\n",
              "                                              random_state=0, splitter='best'),\n",
              "             iid='deprecated', n_jobs=None,\n",
              "             param_grid=[{'max_depth': [3, 20, 50],\n",
              "                          'min_samples_split': [3, 20, 30]}],\n",
              "             pre_dispatch='2*n_jobs', refit=True, return_train_score=False,\n",
              "             scoring=None, verbose=0)"
            ]
          },
          "metadata": {},
          "execution_count": 41
        }
      ]
    },
    {
      "cell_type": "code",
      "metadata": {
        "colab": {
          "base_uri": "https://localhost:8080/",
          "height": 663
        },
        "id": "PV9FG1Vt5v9O",
        "outputId": "6a1affec-eb88-435f-ab1b-dfe7b603a221"
      },
      "source": [
        "# 学習結(果はcv_resultsに格納されている\n",
        "df = pd.DataFrame(tuned_model.cv_results_)\n",
        "df"
      ],
      "execution_count": 52,
      "outputs": [
        {
          "output_type": "execute_result",
          "data": {
            "text/html": [
              "<div>\n",
              "<style scoped>\n",
              "    .dataframe tbody tr th:only-of-type {\n",
              "        vertical-align: middle;\n",
              "    }\n",
              "\n",
              "    .dataframe tbody tr th {\n",
              "        vertical-align: top;\n",
              "    }\n",
              "\n",
              "    .dataframe thead th {\n",
              "        text-align: right;\n",
              "    }\n",
              "</style>\n",
              "<table border=\"1\" class=\"dataframe\">\n",
              "  <thead>\n",
              "    <tr style=\"text-align: right;\">\n",
              "      <th></th>\n",
              "      <th>mean_fit_time</th>\n",
              "      <th>std_fit_time</th>\n",
              "      <th>mean_score_time</th>\n",
              "      <th>std_score_time</th>\n",
              "      <th>param_max_depth</th>\n",
              "      <th>param_min_samples_split</th>\n",
              "      <th>params</th>\n",
              "      <th>split0_test_score</th>\n",
              "      <th>split1_test_score</th>\n",
              "      <th>split2_test_score</th>\n",
              "      <th>split3_test_score</th>\n",
              "      <th>split4_test_score</th>\n",
              "      <th>mean_test_score</th>\n",
              "      <th>std_test_score</th>\n",
              "      <th>rank_test_score</th>\n",
              "    </tr>\n",
              "  </thead>\n",
              "  <tbody>\n",
              "    <tr>\n",
              "      <th>0</th>\n",
              "      <td>0.003854</td>\n",
              "      <td>0.000277</td>\n",
              "      <td>0.000326</td>\n",
              "      <td>0.000041</td>\n",
              "      <td>3</td>\n",
              "      <td>3</td>\n",
              "      <td>{'max_depth': 3, 'min_samples_split': 3}</td>\n",
              "      <td>0.923077</td>\n",
              "      <td>0.901099</td>\n",
              "      <td>0.934066</td>\n",
              "      <td>0.945055</td>\n",
              "      <td>0.901099</td>\n",
              "      <td>0.920879</td>\n",
              "      <td>0.017582</td>\n",
              "      <td>5</td>\n",
              "    </tr>\n",
              "    <tr>\n",
              "      <th>1</th>\n",
              "      <td>0.004152</td>\n",
              "      <td>0.000517</td>\n",
              "      <td>0.000316</td>\n",
              "      <td>0.000012</td>\n",
              "      <td>3</td>\n",
              "      <td>20</td>\n",
              "      <td>{'max_depth': 3, 'min_samples_split': 20}</td>\n",
              "      <td>0.912088</td>\n",
              "      <td>0.901099</td>\n",
              "      <td>0.934066</td>\n",
              "      <td>0.934066</td>\n",
              "      <td>0.901099</td>\n",
              "      <td>0.916484</td>\n",
              "      <td>0.014906</td>\n",
              "      <td>8</td>\n",
              "    </tr>\n",
              "    <tr>\n",
              "      <th>2</th>\n",
              "      <td>0.003755</td>\n",
              "      <td>0.000101</td>\n",
              "      <td>0.000329</td>\n",
              "      <td>0.000039</td>\n",
              "      <td>3</td>\n",
              "      <td>30</td>\n",
              "      <td>{'max_depth': 3, 'min_samples_split': 30}</td>\n",
              "      <td>0.912088</td>\n",
              "      <td>0.901099</td>\n",
              "      <td>0.934066</td>\n",
              "      <td>0.934066</td>\n",
              "      <td>0.901099</td>\n",
              "      <td>0.916484</td>\n",
              "      <td>0.014906</td>\n",
              "      <td>8</td>\n",
              "    </tr>\n",
              "    <tr>\n",
              "      <th>3</th>\n",
              "      <td>0.004461</td>\n",
              "      <td>0.000206</td>\n",
              "      <td>0.000332</td>\n",
              "      <td>0.000034</td>\n",
              "      <td>20</td>\n",
              "      <td>3</td>\n",
              "      <td>{'max_depth': 20, 'min_samples_split': 3}</td>\n",
              "      <td>0.956044</td>\n",
              "      <td>0.912088</td>\n",
              "      <td>0.923077</td>\n",
              "      <td>0.967033</td>\n",
              "      <td>0.956044</td>\n",
              "      <td>0.942857</td>\n",
              "      <td>0.021308</td>\n",
              "      <td>1</td>\n",
              "    </tr>\n",
              "    <tr>\n",
              "      <th>4</th>\n",
              "      <td>0.004344</td>\n",
              "      <td>0.000238</td>\n",
              "      <td>0.000292</td>\n",
              "      <td>0.000007</td>\n",
              "      <td>20</td>\n",
              "      <td>20</td>\n",
              "      <td>{'max_depth': 20, 'min_samples_split': 20}</td>\n",
              "      <td>0.912088</td>\n",
              "      <td>0.901099</td>\n",
              "      <td>0.934066</td>\n",
              "      <td>0.945055</td>\n",
              "      <td>0.934066</td>\n",
              "      <td>0.925275</td>\n",
              "      <td>0.016150</td>\n",
              "      <td>3</td>\n",
              "    </tr>\n",
              "    <tr>\n",
              "      <th>5</th>\n",
              "      <td>0.005115</td>\n",
              "      <td>0.001633</td>\n",
              "      <td>0.000334</td>\n",
              "      <td>0.000035</td>\n",
              "      <td>20</td>\n",
              "      <td>30</td>\n",
              "      <td>{'max_depth': 20, 'min_samples_split': 30}</td>\n",
              "      <td>0.912088</td>\n",
              "      <td>0.901099</td>\n",
              "      <td>0.934066</td>\n",
              "      <td>0.945055</td>\n",
              "      <td>0.901099</td>\n",
              "      <td>0.918681</td>\n",
              "      <td>0.017855</td>\n",
              "      <td>6</td>\n",
              "    </tr>\n",
              "    <tr>\n",
              "      <th>6</th>\n",
              "      <td>0.004492</td>\n",
              "      <td>0.000257</td>\n",
              "      <td>0.000314</td>\n",
              "      <td>0.000012</td>\n",
              "      <td>50</td>\n",
              "      <td>3</td>\n",
              "      <td>{'max_depth': 50, 'min_samples_split': 3}</td>\n",
              "      <td>0.956044</td>\n",
              "      <td>0.912088</td>\n",
              "      <td>0.923077</td>\n",
              "      <td>0.967033</td>\n",
              "      <td>0.956044</td>\n",
              "      <td>0.942857</td>\n",
              "      <td>0.021308</td>\n",
              "      <td>1</td>\n",
              "    </tr>\n",
              "    <tr>\n",
              "      <th>7</th>\n",
              "      <td>0.004385</td>\n",
              "      <td>0.000224</td>\n",
              "      <td>0.000300</td>\n",
              "      <td>0.000008</td>\n",
              "      <td>50</td>\n",
              "      <td>20</td>\n",
              "      <td>{'max_depth': 50, 'min_samples_split': 20}</td>\n",
              "      <td>0.912088</td>\n",
              "      <td>0.901099</td>\n",
              "      <td>0.934066</td>\n",
              "      <td>0.945055</td>\n",
              "      <td>0.934066</td>\n",
              "      <td>0.925275</td>\n",
              "      <td>0.016150</td>\n",
              "      <td>3</td>\n",
              "    </tr>\n",
              "    <tr>\n",
              "      <th>8</th>\n",
              "      <td>0.005185</td>\n",
              "      <td>0.000846</td>\n",
              "      <td>0.000424</td>\n",
              "      <td>0.000138</td>\n",
              "      <td>50</td>\n",
              "      <td>30</td>\n",
              "      <td>{'max_depth': 50, 'min_samples_split': 30}</td>\n",
              "      <td>0.912088</td>\n",
              "      <td>0.901099</td>\n",
              "      <td>0.934066</td>\n",
              "      <td>0.945055</td>\n",
              "      <td>0.901099</td>\n",
              "      <td>0.918681</td>\n",
              "      <td>0.017855</td>\n",
              "      <td>6</td>\n",
              "    </tr>\n",
              "  </tbody>\n",
              "</table>\n",
              "</div>"
            ],
            "text/plain": [
              "   mean_fit_time  std_fit_time  ...  std_test_score  rank_test_score\n",
              "0       0.003854      0.000277  ...        0.017582                5\n",
              "1       0.004152      0.000517  ...        0.014906                8\n",
              "2       0.003755      0.000101  ...        0.014906                8\n",
              "3       0.004461      0.000206  ...        0.021308                1\n",
              "4       0.004344      0.000238  ...        0.016150                3\n",
              "5       0.005115      0.001633  ...        0.017855                6\n",
              "6       0.004492      0.000257  ...        0.021308                1\n",
              "7       0.004385      0.000224  ...        0.016150                3\n",
              "8       0.005185      0.000846  ...        0.017855                6\n",
              "\n",
              "[9 rows x 15 columns]"
            ]
          },
          "metadata": {},
          "execution_count": 52
        }
      ]
    },
    {
      "cell_type": "code",
      "metadata": {
        "colab": {
          "base_uri": "https://localhost:8080/"
        },
        "id": "P11qkgHO5v_-",
        "outputId": "436d6f96-2ef3-4d5d-8880-830bc2371091"
      },
      "source": [
        "df['mean_test_score']"
      ],
      "execution_count": 51,
      "outputs": [
        {
          "output_type": "execute_result",
          "data": {
            "text/plain": [
              "0    0.920879\n",
              "1    0.916484\n",
              "2    0.916484\n",
              "3    0.942857\n",
              "4    0.925275\n",
              "5    0.918681\n",
              "6    0.942857\n",
              "7    0.925275\n",
              "8    0.918681\n",
              "Name: mean_test_score, dtype: float64"
            ]
          },
          "metadata": {},
          "execution_count": 51
        }
      ]
    },
    {
      "cell_type": "code",
      "metadata": {
        "colab": {
          "base_uri": "https://localhost:8080/"
        },
        "id": "s7MhfWRU5wCx",
        "outputId": "70f480be-8dbd-4c23-b131-cb2c5d549ea0"
      },
      "source": [
        "tuned_model.best_params_"
      ],
      "execution_count": 53,
      "outputs": [
        {
          "output_type": "execute_result",
          "data": {
            "text/plain": [
              "{'max_depth': 20, 'min_samples_split': 3}"
            ]
          },
          "metadata": {},
          "execution_count": 53
        }
      ]
    },
    {
      "cell_type": "code",
      "metadata": {
        "id": "w113FS0_5wF1"
      },
      "source": [
        "best_model = tuned_model.best_estimator_"
      ],
      "execution_count": 55,
      "outputs": []
    },
    {
      "cell_type": "code",
      "metadata": {
        "colab": {
          "base_uri": "https://localhost:8080/"
        },
        "id": "4EAqxTIL5wIv",
        "outputId": "c5ac7a94-49d4-4bd3-9568-278c182d6e6a"
      },
      "source": [
        "print(best_model.score(x_train_val, t_train_val))\n",
        "print(best_model.score(x_test, t_test))"
      ],
      "execution_count": 57,
      "outputs": [
        {
          "output_type": "stream",
          "name": "stdout",
          "text": [
            "1.0\n",
            "0.9385964912280702\n"
          ]
        }
      ]
    },
    {
      "cell_type": "code",
      "metadata": {
        "id": "sHcq0Fym_Ptt"
      },
      "source": [
        ""
      ],
      "execution_count": null,
      "outputs": []
    }
  ]
}