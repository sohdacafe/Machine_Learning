{
  "nbformat": 4,
  "nbformat_minor": 0,
  "metadata": {
    "colab": {
      "name": "deci_tree_breast_cancer.ipynb",
      "provenance": [],
      "collapsed_sections": [],
      "authorship_tag": "ABX9TyN+A91EuVxLfwCa834PNlOn",
      "include_colab_link": true
    },
    "kernelspec": {
      "name": "python3",
      "display_name": "Python 3"
    },
    "language_info": {
      "name": "python"
    }
  },
  "cells": [
    {
      "cell_type": "markdown",
      "metadata": {
        "id": "view-in-github",
        "colab_type": "text"
      },
      "source": [
        "<a href=\"https://colab.research.google.com/github/sohdacafe/Machine_Learning/blob/main/deci_tree_breast_cancer.ipynb\" target=\"_parent\"><img src=\"https://colab.research.google.com/assets/colab-badge.svg\" alt=\"Open In Colab\"/></a>"
      ]
    },
    {
      "cell_type": "code",
      "metadata": {
        "id": "tjpnwQZIhrHA"
      },
      "source": [
        "import pandas as pd\n",
        "import numpy as np\n",
        "import matplotlib.pyplot as plt"
      ],
      "execution_count": 1,
      "outputs": []
    },
    {
      "cell_type": "code",
      "metadata": {
        "id": "C0au_t34hypN"
      },
      "source": [
        "from sklearn.datasets import  load_breast_cancer\n",
        "dataset = load_breast_cancer()"
      ],
      "execution_count": 2,
      "outputs": []
    },
    {
      "cell_type": "code",
      "metadata": {
        "id": "eXe5ULPzh5-k"
      },
      "source": [
        "t = dataset.target\n",
        "x = dataset.data"
      ],
      "execution_count": 3,
      "outputs": []
    },
    {
      "cell_type": "code",
      "metadata": {
        "colab": {
          "base_uri": "https://localhost:8080/"
        },
        "id": "gUXRHe4-2wiC",
        "outputId": "39d70c72-8d17-4b3b-e210-f5e0f017f3f1"
      },
      "source": [
        "x.shape, t.shape"
      ],
      "execution_count": 4,
      "outputs": [
        {
          "output_type": "execute_result",
          "data": {
            "text/plain": [
              "((569, 30), (569,))"
            ]
          },
          "metadata": {},
          "execution_count": 4
        }
      ]
    },
    {
      "cell_type": "code",
      "metadata": {
        "id": "0YKJiuix3H-I"
      },
      "source": [
        "from sklearn.model_selection import train_test_split\n",
        "x_train_val, x_test, t_train_val, t_test = train_test_split(x, t, test_size=0.2, random_state=1)"
      ],
      "execution_count": 5,
      "outputs": []
    },
    {
      "cell_type": "code",
      "metadata": {
        "colab": {
          "base_uri": "https://localhost:8080/"
        },
        "id": "iAR7OGDz3mq7",
        "outputId": "a8cee07b-e34f-4ccf-d19d-61319be25996"
      },
      "source": [
        "x_train_val.shape, x_test.shape"
      ],
      "execution_count": 6,
      "outputs": [
        {
          "output_type": "execute_result",
          "data": {
            "text/plain": [
              "((455, 30), (114, 30))"
            ]
          },
          "metadata": {},
          "execution_count": 6
        }
      ]
    },
    {
      "cell_type": "code",
      "metadata": {
        "id": "eAUPWa2Q3tdg"
      },
      "source": [
        "x_train, x_val, t_train, t_val = train_test_split(x_train_val, t_train_val, test_size=0.3, random_state=1)"
      ],
      "execution_count": 7,
      "outputs": []
    },
    {
      "cell_type": "code",
      "metadata": {
        "colab": {
          "base_uri": "https://localhost:8080/"
        },
        "id": "jAGgUtCW4Cx7",
        "outputId": "0f5ab4f6-4e28-4b80-babb-2664da49a4c2"
      },
      "source": [
        "x_train.shape, x_val.shape, x_test.shape"
      ],
      "execution_count": 8,
      "outputs": [
        {
          "output_type": "execute_result",
          "data": {
            "text/plain": [
              "((318, 30), (137, 30), (114, 30))"
            ]
          },
          "metadata": {},
          "execution_count": 8
        }
      ]
    },
    {
      "cell_type": "code",
      "metadata": {
        "colab": {
          "base_uri": "https://localhost:8080/"
        },
        "id": "-n1fZnLD4Mgg",
        "outputId": "e84b9354-b310-4e88-fbb8-5f94fb05f54b"
      },
      "source": [
        "from sklearn.tree import DecisionTreeClassifier\n",
        "dtree = DecisionTreeClassifier(max_depth=10, min_samples_split=30, random_state=0)\n",
        "dtree.fit(x_train, t_train)"
      ],
      "execution_count": 9,
      "outputs": [
        {
          "output_type": "execute_result",
          "data": {
            "text/plain": [
              "DecisionTreeClassifier(ccp_alpha=0.0, class_weight=None, criterion='gini',\n",
              "                       max_depth=10, max_features=None, max_leaf_nodes=None,\n",
              "                       min_impurity_decrease=0.0, min_impurity_split=None,\n",
              "                       min_samples_leaf=1, min_samples_split=30,\n",
              "                       min_weight_fraction_leaf=0.0, presort='deprecated',\n",
              "                       random_state=0, splitter='best')"
            ]
          },
          "metadata": {},
          "execution_count": 9
        }
      ]
    },
    {
      "cell_type": "code",
      "metadata": {
        "colab": {
          "base_uri": "https://localhost:8080/"
        },
        "id": "q2O_47L94mQE",
        "outputId": "17b3fc82-d944-4580-9284-6e2a792e9e54"
      },
      "source": [
        "print(f'train score: {dtree.score(x_train, t_train)}')\n",
        "print(f'val score: {dtree.score(x_val, t_val)}')\n",
        "print(f'test score: {dtree.score(x_test, t_test)}')"
      ],
      "execution_count": 10,
      "outputs": [
        {
          "output_type": "stream",
          "name": "stdout",
          "text": [
            "train score: 0.9308176100628931\n",
            "val score: 0.9562043795620438\n",
            "test score: 0.9298245614035088\n"
          ]
        }
      ]
    },
    {
      "cell_type": "code",
      "metadata": {
        "id": "6G4DTGP449NE"
      },
      "source": [
        "# グリッドサーチ、ハイパーパラメータの調整方法\n",
        "'''\n",
        "グリッドサーチ使用するにあたって用意するパラメーター\n",
        "　・estimator : 学習に使用するモデル\n",
        "　・param_grid : ハイパーパラメーターを探索する範囲, (辞書型で、パラメータの名前をキーに、探索範囲ををバリューに格納)\n",
        "　・cv : k-分割公差検証のkの値\n",
        "'''"
      ],
      "execution_count": null,
      "outputs": []
    },
    {
      "cell_type": "code",
      "metadata": {
        "id": "gkKvQWXY5v3N"
      },
      "source": [
        "from sklearn.model_selection import GridSearchCV"
      ],
      "execution_count": 11,
      "outputs": []
    },
    {
      "cell_type": "code",
      "metadata": {
        "id": "4ZLTBgCO6rrc"
      },
      "source": [
        "estimator = DecisionTreeClassifier(random_state = 0)\n",
        "param_grid = [{'max_depth' : [5,10,15,20,25,30,35,40,45,50], 'min_samples_split':[5,10,15,20,25,30]}]\n",
        "cv =5"
      ],
      "execution_count": 17,
      "outputs": []
    },
    {
      "cell_type": "code",
      "metadata": {
        "colab": {
          "base_uri": "https://localhost:8080/"
        },
        "id": "AyztBEJl5v6Q",
        "outputId": "959841a7-be6c-442d-8fd6-eb3264d793f1"
      },
      "source": [
        "tuned_model = GridSearchCV(estimator = estimator, param_grid=param_grid, cv=cv, return_train_score=False)\n",
        "tuned_model.fit(x_train_val, t_train_val)"
      ],
      "execution_count": 18,
      "outputs": [
        {
          "output_type": "execute_result",
          "data": {
            "text/plain": [
              "GridSearchCV(cv=5, error_score=nan,\n",
              "             estimator=DecisionTreeClassifier(ccp_alpha=0.0, class_weight=None,\n",
              "                                              criterion='gini', max_depth=None,\n",
              "                                              max_features=None,\n",
              "                                              max_leaf_nodes=None,\n",
              "                                              min_impurity_decrease=0.0,\n",
              "                                              min_impurity_split=None,\n",
              "                                              min_samples_leaf=1,\n",
              "                                              min_samples_split=2,\n",
              "                                              min_weight_fraction_leaf=0.0,\n",
              "                                              presort='deprecated',\n",
              "                                              random_state=0, splitter='best'),\n",
              "             iid='deprecated', n_jobs=None,\n",
              "             param_grid=[{'max_depth': [5, 10, 15, 20, 25, 30, 35, 40, 45, 50],\n",
              "                          'min_samples_split': [5, 10, 15, 20, 25, 30]}],\n",
              "             pre_dispatch='2*n_jobs', refit=True, return_train_score=False,\n",
              "             scoring=None, verbose=0)"
            ]
          },
          "metadata": {},
          "execution_count": 18
        }
      ]
    },
    {
      "cell_type": "code",
      "metadata": {
        "colab": {
          "base_uri": "https://localhost:8080/",
          "height": 729
        },
        "id": "PV9FG1Vt5v9O",
        "outputId": "3d264bbf-f2c0-440d-cd5d-7881b3b3c221"
      },
      "source": [
        "# 学習結(果はcv_resultsに格納されている\n",
        "# pd.DataFrame(tuned_model.cv_results_).T\n",
        "df = pd.DataFrame(tuned_model.cv_results_)\n",
        "df.head(10)"
      ],
      "execution_count": 20,
      "outputs": [
        {
          "output_type": "execute_result",
          "data": {
            "text/html": [
              "<div>\n",
              "<style scoped>\n",
              "    .dataframe tbody tr th:only-of-type {\n",
              "        vertical-align: middle;\n",
              "    }\n",
              "\n",
              "    .dataframe tbody tr th {\n",
              "        vertical-align: top;\n",
              "    }\n",
              "\n",
              "    .dataframe thead th {\n",
              "        text-align: right;\n",
              "    }\n",
              "</style>\n",
              "<table border=\"1\" class=\"dataframe\">\n",
              "  <thead>\n",
              "    <tr style=\"text-align: right;\">\n",
              "      <th></th>\n",
              "      <th>mean_fit_time</th>\n",
              "      <th>std_fit_time</th>\n",
              "      <th>mean_score_time</th>\n",
              "      <th>std_score_time</th>\n",
              "      <th>param_max_depth</th>\n",
              "      <th>param_min_samples_split</th>\n",
              "      <th>params</th>\n",
              "      <th>split0_test_score</th>\n",
              "      <th>split1_test_score</th>\n",
              "      <th>split2_test_score</th>\n",
              "      <th>split3_test_score</th>\n",
              "      <th>split4_test_score</th>\n",
              "      <th>mean_test_score</th>\n",
              "      <th>std_test_score</th>\n",
              "      <th>rank_test_score</th>\n",
              "    </tr>\n",
              "  </thead>\n",
              "  <tbody>\n",
              "    <tr>\n",
              "      <th>0</th>\n",
              "      <td>0.006398</td>\n",
              "      <td>0.002264</td>\n",
              "      <td>0.000539</td>\n",
              "      <td>0.000224</td>\n",
              "      <td>5</td>\n",
              "      <td>5</td>\n",
              "      <td>{'max_depth': 5, 'min_samples_split': 5}</td>\n",
              "      <td>0.967033</td>\n",
              "      <td>0.912088</td>\n",
              "      <td>0.912088</td>\n",
              "      <td>0.956044</td>\n",
              "      <td>0.967033</td>\n",
              "      <td>0.942857</td>\n",
              "      <td>0.025441</td>\n",
              "      <td>11</td>\n",
              "    </tr>\n",
              "    <tr>\n",
              "      <th>1</th>\n",
              "      <td>0.004725</td>\n",
              "      <td>0.000271</td>\n",
              "      <td>0.000380</td>\n",
              "      <td>0.000019</td>\n",
              "      <td>5</td>\n",
              "      <td>10</td>\n",
              "      <td>{'max_depth': 5, 'min_samples_split': 10}</td>\n",
              "      <td>0.967033</td>\n",
              "      <td>0.912088</td>\n",
              "      <td>0.923077</td>\n",
              "      <td>0.956044</td>\n",
              "      <td>0.967033</td>\n",
              "      <td>0.945055</td>\n",
              "      <td>0.023051</td>\n",
              "      <td>1</td>\n",
              "    </tr>\n",
              "    <tr>\n",
              "      <th>2</th>\n",
              "      <td>0.004577</td>\n",
              "      <td>0.000222</td>\n",
              "      <td>0.000360</td>\n",
              "      <td>0.000016</td>\n",
              "      <td>5</td>\n",
              "      <td>15</td>\n",
              "      <td>{'max_depth': 5, 'min_samples_split': 15}</td>\n",
              "      <td>0.912088</td>\n",
              "      <td>0.901099</td>\n",
              "      <td>0.934066</td>\n",
              "      <td>0.945055</td>\n",
              "      <td>0.934066</td>\n",
              "      <td>0.925275</td>\n",
              "      <td>0.016150</td>\n",
              "      <td>21</td>\n",
              "    </tr>\n",
              "    <tr>\n",
              "      <th>3</th>\n",
              "      <td>0.004573</td>\n",
              "      <td>0.000253</td>\n",
              "      <td>0.000360</td>\n",
              "      <td>0.000020</td>\n",
              "      <td>5</td>\n",
              "      <td>20</td>\n",
              "      <td>{'max_depth': 5, 'min_samples_split': 20}</td>\n",
              "      <td>0.912088</td>\n",
              "      <td>0.901099</td>\n",
              "      <td>0.934066</td>\n",
              "      <td>0.945055</td>\n",
              "      <td>0.934066</td>\n",
              "      <td>0.925275</td>\n",
              "      <td>0.016150</td>\n",
              "      <td>21</td>\n",
              "    </tr>\n",
              "    <tr>\n",
              "      <th>4</th>\n",
              "      <td>0.004486</td>\n",
              "      <td>0.000194</td>\n",
              "      <td>0.000347</td>\n",
              "      <td>0.000016</td>\n",
              "      <td>5</td>\n",
              "      <td>25</td>\n",
              "      <td>{'max_depth': 5, 'min_samples_split': 25}</td>\n",
              "      <td>0.912088</td>\n",
              "      <td>0.901099</td>\n",
              "      <td>0.934066</td>\n",
              "      <td>0.945055</td>\n",
              "      <td>0.934066</td>\n",
              "      <td>0.925275</td>\n",
              "      <td>0.016150</td>\n",
              "      <td>21</td>\n",
              "    </tr>\n",
              "    <tr>\n",
              "      <th>5</th>\n",
              "      <td>0.004396</td>\n",
              "      <td>0.000223</td>\n",
              "      <td>0.000362</td>\n",
              "      <td>0.000028</td>\n",
              "      <td>5</td>\n",
              "      <td>30</td>\n",
              "      <td>{'max_depth': 5, 'min_samples_split': 30}</td>\n",
              "      <td>0.912088</td>\n",
              "      <td>0.901099</td>\n",
              "      <td>0.934066</td>\n",
              "      <td>0.945055</td>\n",
              "      <td>0.901099</td>\n",
              "      <td>0.918681</td>\n",
              "      <td>0.017855</td>\n",
              "      <td>51</td>\n",
              "    </tr>\n",
              "    <tr>\n",
              "      <th>6</th>\n",
              "      <td>0.004572</td>\n",
              "      <td>0.000221</td>\n",
              "      <td>0.000361</td>\n",
              "      <td>0.000014</td>\n",
              "      <td>10</td>\n",
              "      <td>5</td>\n",
              "      <td>{'max_depth': 10, 'min_samples_split': 5}</td>\n",
              "      <td>0.967033</td>\n",
              "      <td>0.912088</td>\n",
              "      <td>0.912088</td>\n",
              "      <td>0.956044</td>\n",
              "      <td>0.956044</td>\n",
              "      <td>0.940659</td>\n",
              "      <td>0.023671</td>\n",
              "      <td>12</td>\n",
              "    </tr>\n",
              "    <tr>\n",
              "      <th>7</th>\n",
              "      <td>0.004519</td>\n",
              "      <td>0.000202</td>\n",
              "      <td>0.000364</td>\n",
              "      <td>0.000024</td>\n",
              "      <td>10</td>\n",
              "      <td>10</td>\n",
              "      <td>{'max_depth': 10, 'min_samples_split': 10}</td>\n",
              "      <td>0.967033</td>\n",
              "      <td>0.912088</td>\n",
              "      <td>0.923077</td>\n",
              "      <td>0.956044</td>\n",
              "      <td>0.967033</td>\n",
              "      <td>0.945055</td>\n",
              "      <td>0.023051</td>\n",
              "      <td>1</td>\n",
              "    </tr>\n",
              "    <tr>\n",
              "      <th>8</th>\n",
              "      <td>0.004437</td>\n",
              "      <td>0.000213</td>\n",
              "      <td>0.000341</td>\n",
              "      <td>0.000010</td>\n",
              "      <td>10</td>\n",
              "      <td>15</td>\n",
              "      <td>{'max_depth': 10, 'min_samples_split': 15}</td>\n",
              "      <td>0.912088</td>\n",
              "      <td>0.901099</td>\n",
              "      <td>0.934066</td>\n",
              "      <td>0.945055</td>\n",
              "      <td>0.934066</td>\n",
              "      <td>0.925275</td>\n",
              "      <td>0.016150</td>\n",
              "      <td>21</td>\n",
              "    </tr>\n",
              "    <tr>\n",
              "      <th>9</th>\n",
              "      <td>0.004618</td>\n",
              "      <td>0.000494</td>\n",
              "      <td>0.000407</td>\n",
              "      <td>0.000122</td>\n",
              "      <td>10</td>\n",
              "      <td>20</td>\n",
              "      <td>{'max_depth': 10, 'min_samples_split': 20}</td>\n",
              "      <td>0.912088</td>\n",
              "      <td>0.901099</td>\n",
              "      <td>0.934066</td>\n",
              "      <td>0.945055</td>\n",
              "      <td>0.934066</td>\n",
              "      <td>0.925275</td>\n",
              "      <td>0.016150</td>\n",
              "      <td>21</td>\n",
              "    </tr>\n",
              "  </tbody>\n",
              "</table>\n",
              "</div>"
            ],
            "text/plain": [
              "   mean_fit_time  std_fit_time  ...  std_test_score  rank_test_score\n",
              "0       0.006398      0.002264  ...        0.025441               11\n",
              "1       0.004725      0.000271  ...        0.023051                1\n",
              "2       0.004577      0.000222  ...        0.016150               21\n",
              "3       0.004573      0.000253  ...        0.016150               21\n",
              "4       0.004486      0.000194  ...        0.016150               21\n",
              "5       0.004396      0.000223  ...        0.017855               51\n",
              "6       0.004572      0.000221  ...        0.023671               12\n",
              "7       0.004519      0.000202  ...        0.023051                1\n",
              "8       0.004437      0.000213  ...        0.016150               21\n",
              "9       0.004618      0.000494  ...        0.016150               21\n",
              "\n",
              "[10 rows x 15 columns]"
            ]
          },
          "metadata": {},
          "execution_count": 20
        }
      ]
    },
    {
      "cell_type": "code",
      "metadata": {
        "colab": {
          "base_uri": "https://localhost:8080/"
        },
        "id": "P11qkgHO5v_-",
        "outputId": "1fac20d3-a606-4d8f-ecab-c31f63222269"
      },
      "source": [
        "df['mean_test_score']"
      ],
      "execution_count": 21,
      "outputs": [
        {
          "output_type": "execute_result",
          "data": {
            "text/plain": [
              "0     0.942857\n",
              "1     0.945055\n",
              "2     0.925275\n",
              "3     0.925275\n",
              "4     0.925275\n",
              "5     0.918681\n",
              "6     0.940659\n",
              "7     0.945055\n",
              "8     0.925275\n",
              "9     0.925275\n",
              "10    0.925275\n",
              "11    0.918681\n",
              "12    0.940659\n",
              "13    0.945055\n",
              "14    0.925275\n",
              "15    0.925275\n",
              "16    0.925275\n",
              "17    0.918681\n",
              "18    0.940659\n",
              "19    0.945055\n",
              "20    0.925275\n",
              "21    0.925275\n",
              "22    0.925275\n",
              "23    0.918681\n",
              "24    0.940659\n",
              "25    0.945055\n",
              "26    0.925275\n",
              "27    0.925275\n",
              "28    0.925275\n",
              "29    0.918681\n",
              "30    0.940659\n",
              "31    0.945055\n",
              "32    0.925275\n",
              "33    0.925275\n",
              "34    0.925275\n",
              "35    0.918681\n",
              "36    0.940659\n",
              "37    0.945055\n",
              "38    0.925275\n",
              "39    0.925275\n",
              "40    0.925275\n",
              "41    0.918681\n",
              "42    0.940659\n",
              "43    0.945055\n",
              "44    0.925275\n",
              "45    0.925275\n",
              "46    0.925275\n",
              "47    0.918681\n",
              "48    0.940659\n",
              "49    0.945055\n",
              "50    0.925275\n",
              "51    0.925275\n",
              "52    0.925275\n",
              "53    0.918681\n",
              "54    0.940659\n",
              "55    0.945055\n",
              "56    0.925275\n",
              "57    0.925275\n",
              "58    0.925275\n",
              "59    0.918681\n",
              "Name: mean_test_score, dtype: float64"
            ]
          },
          "metadata": {},
          "execution_count": 21
        }
      ]
    },
    {
      "cell_type": "code",
      "metadata": {
        "colab": {
          "base_uri": "https://localhost:8080/"
        },
        "id": "s7MhfWRU5wCx",
        "outputId": "ccf31ada-d7b6-4ea3-852f-c2ac57ad7aa1"
      },
      "source": [
        "tuned_model.best_params_"
      ],
      "execution_count": 22,
      "outputs": [
        {
          "output_type": "execute_result",
          "data": {
            "text/plain": [
              "{'max_depth': 5, 'min_samples_split': 10}"
            ]
          },
          "metadata": {},
          "execution_count": 22
        }
      ]
    },
    {
      "cell_type": "code",
      "metadata": {
        "id": "w113FS0_5wF1"
      },
      "source": [
        "best_model = tuned_model.best_estimator_"
      ],
      "execution_count": 23,
      "outputs": []
    },
    {
      "cell_type": "code",
      "metadata": {
        "colab": {
          "base_uri": "https://localhost:8080/"
        },
        "id": "4EAqxTIL5wIv",
        "outputId": "d03cf043-50e4-469c-ee4a-bc083dc87aff"
      },
      "source": [
        "print(best_model.score(x_train_val, t_train_val))\n",
        "print(best_model.score(x_test, t_test))"
      ],
      "execution_count": 24,
      "outputs": [
        {
          "output_type": "stream",
          "name": "stdout",
          "text": [
            "0.9934065934065934\n",
            "0.956140350877193\n"
          ]
        }
      ]
    },
    {
      "cell_type": "code",
      "metadata": {
        "colab": {
          "base_uri": "https://localhost:8080/"
        },
        "id": "QuOP7NqcggpB",
        "outputId": "71897314-a24f-45cf-9571-779aeb435899"
      },
      "source": [
        "df.columns"
      ],
      "execution_count": 25,
      "outputs": [
        {
          "output_type": "execute_result",
          "data": {
            "text/plain": [
              "Index(['mean_fit_time', 'std_fit_time', 'mean_score_time', 'std_score_time',\n",
              "       'param_max_depth', 'param_min_samples_split', 'params',\n",
              "       'split0_test_score', 'split1_test_score', 'split2_test_score',\n",
              "       'split3_test_score', 'split4_test_score', 'mean_test_score',\n",
              "       'std_test_score', 'rank_test_score'],\n",
              "      dtype='object')"
            ]
          },
          "metadata": {},
          "execution_count": 25
        }
      ]
    },
    {
      "cell_type": "code",
      "metadata": {
        "id": "sHcq0Fym_Ptt",
        "colab": {
          "base_uri": "https://localhost:8080/",
          "height": 298
        },
        "outputId": "231a8f46-8348-4745-eb64-3f856aec2068"
      },
      "source": [
        "df.plot.scatter('param_max_depth', 'mean_test_score')"
      ],
      "execution_count": 26,
      "outputs": [
        {
          "output_type": "execute_result",
          "data": {
            "text/plain": [
              "<matplotlib.axes._subplots.AxesSubplot at 0x7fa9f4c0a790>"
            ]
          },
          "metadata": {},
          "execution_count": 26
        },
        {
          "output_type": "display_data",
          "data": {
            "image/png": "[encoded data removed]",
            "text/plain": [
              "<Figure size 432x288 with 1 Axes>"
            ]
          },
          "metadata": {
            "needs_background": "light"
          }
        }
      ]
    },
    {
      "cell_type": "code",
      "metadata": {
        "colab": {
          "base_uri": "https://localhost:8080/",
          "height": 298
        },
        "id": "jLNhH6jmgsb5",
        "outputId": "83050f19-96d1-4b7d-db59-e19f3b81a940"
      },
      "source": [
        "df.plot.scatter('param_min_samples_split', 'mean_test_score')"
      ],
      "execution_count": 27,
      "outputs": [
        {
          "output_type": "execute_result",
          "data": {
            "text/plain": [
              "<matplotlib.axes._subplots.AxesSubplot at 0x7fa9f4692c90>"
            ]
          },
          "metadata": {},
          "execution_count": 27
        },
        {
          "output_type": "display_data",
          "data": {
            "image/png": "[encoded data removed]",
            "text/plain": [
              "<Figure size 432x288 with 1 Axes>"
            ]
          },
          "metadata": {
            "needs_background": "light"
          }
        }
      ]
    },
    {
      "cell_type": "code",
      "metadata": {
        "id": "RedIkAyZg1XW"
      },
      "source": [
        "# グリッドサーチ(for文で構築)"
      ],
      "execution_count": null,
      "outputs": []
    },
    {
      "cell_type": "code",
      "metadata": {
        "id": "frUL6lMMVV4x"
      },
      "source": [
        "import numpy as np\n",
        "max_depths = np.array([5,10,15,20,25,30,35,40,45,50])\n",
        "min_samples_splits = np.array([5,10,15,20,25,30])"
      ],
      "execution_count": null,
      "outputs": []
    },
    {
      "cell_type": "code",
      "metadata": {
        "id": "ydtqr5I2XX5_"
      },
      "source": [
        "train_score = []\n",
        "val_score = []\n",
        "test_score = []\n",
        "best_score = 0"
      ],
      "execution_count": null,
      "outputs": []
    },
    {
      "cell_type": "code",
      "metadata": {
        "colab": {
          "base_uri": "https://localhost:8080/"
        },
        "id": "5_PC1X7QOZef",
        "outputId": "fffe81e1-25fc-48fc-8bf0-8e8b8cfdc3e6"
      },
      "source": [
        "for max_depth in max_depths:\n",
        "    for min_samples_split in min_samples_splits:\n",
        "        dtree = DecisionTreeClassifier(max_depth=max_depth, min_samples_split=min_samples_split, random_state=0)\n",
        "        dtree.fit(x_train, t_train)\n",
        "        \n",
        "        train_score.append((dtree.score(x_train, t_train)))\n",
        "        val_score.append((dtree.score(x_val, t_val)))\n",
        "        test_score.append((dtree.score(x_test, t_test)))\n",
        "        test_scores = dtree.score(x_test, t_test)\n",
        "\n",
        "\n",
        "        if test_scores > best_score:\n",
        "            best_score = test_scores\n",
        "            best_parameters = {'max_depth':max_depth, 'min_samples_split':min_samples_split}\n",
        "\n",
        "print('Best score : {:.4f}'.format(best_score))\n",
        "print('Best parameters : {}'.format(best_parameters))"
      ],
      "execution_count": null,
      "outputs": [
        {
          "output_type": "stream",
          "name": "stdout",
          "text": [
            "Best score : 0.9298\n",
            "Best parameters : {'max_depth': 5, 'min_samples_split': 15}\n"
          ]
        }
      ]
    },
    {
      "cell_type": "code",
      "metadata": {
        "id": "SIwtdxIRVWBb"
      },
      "source": [
        ""
      ],
      "execution_count": null,
      "outputs": []
    }
  ]
}