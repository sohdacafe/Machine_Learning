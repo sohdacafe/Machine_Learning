{
  "nbformat": 4,
  "nbformat_minor": 0,
  "metadata": {
    "colab": {
      "name": "LightGBM_titanic.ipynb",
      "provenance": [],
      "collapsed_sections": [],
      "authorship_tag": "ABX9TyNpv/ynq1ORjjLCasaowWpV",
      "include_colab_link": true
    },
    "kernelspec": {
      "name": "python3",
      "display_name": "Python 3"
    },
    "language_info": {
      "name": "python"
    }
  },
  "cells": [
    {
      "cell_type": "markdown",
      "metadata": {
        "id": "view-in-github",
        "colab_type": "text"
      },
      "source": [
        "<a href=\"https://colab.research.google.com/github/sohdacafe/Machine_Learning/blob/main/LightGBM_titanic.ipynb\" target=\"_parent\"><img src=\"https://colab.research.google.com/assets/colab-badge.svg\" alt=\"Open In Colab\"/></a>"
      ]
    },
    {
      "cell_type": "code",
      "metadata": {
        "id": "DZm63spMP2lL"
      },
      "source": [
        "import pandas as pd\n",
        "import numpy as np\n",
        "import lightgbm as lgb"
      ],
      "execution_count": 1,
      "outputs": []
    },
    {
      "cell_type": "code",
      "metadata": {
        "id": "FR-SiusaQJcB"
      },
      "source": [
        "df_data = pd.read_csv('titanic_data_train.csv')\n",
        "df_data = df_data.drop('Name', axis=1)\n",
        "df_data = df_data.drop('Ticket', axis=1)\n",
        "df_data = df_data.drop('Embarked', axis=1)\n",
        "df_data = df_data.drop('Sex', axis=1)\n",
        "df_data = df_data.drop('Cabin', axis=1)"
      ],
      "execution_count": 2,
      "outputs": []
    },
    {
      "cell_type": "code",
      "metadata": {
        "colab": {
          "base_uri": "https://localhost:8080/",
          "height": 476
        },
        "id": "Px0E-D7cQL93",
        "outputId": "ceedd7f2-8299-44f8-f5c3-fff1db3cf5c3"
      },
      "source": [
        "print(df_data)\n",
        "print(df_data.shape)\n",
        "df_data.head()"
      ],
      "execution_count": 3,
      "outputs": [
        {
          "output_type": "stream",
          "name": "stdout",
          "text": [
            "     PassengerId  Survived  Pclass   Age  SibSp  Parch     Fare\n",
            "0              1         0       3  22.0      1      0   7.2500\n",
            "1              2         1       1  38.0      1      0  71.2833\n",
            "2              3         1       3  26.0      0      0   7.9250\n",
            "3              4         1       1  35.0      1      0  53.1000\n",
            "4              5         0       3  35.0      0      0   8.0500\n",
            "..           ...       ...     ...   ...    ...    ...      ...\n",
            "886          887         0       2  27.0      0      0  13.0000\n",
            "887          888         1       1  19.0      0      0  30.0000\n",
            "888          889         0       3   NaN      1      2  23.4500\n",
            "889          890         1       1  26.0      0      0  30.0000\n",
            "890          891         0       3  32.0      0      0   7.7500\n",
            "\n",
            "[891 rows x 7 columns]\n",
            "(891, 7)\n"
          ]
        },
        {
          "output_type": "execute_result",
          "data": {
            "text/html": [
              "<div>\n",
              "<style scoped>\n",
              "    .dataframe tbody tr th:only-of-type {\n",
              "        vertical-align: middle;\n",
              "    }\n",
              "\n",
              "    .dataframe tbody tr th {\n",
              "        vertical-align: top;\n",
              "    }\n",
              "\n",
              "    .dataframe thead th {\n",
              "        text-align: right;\n",
              "    }\n",
              "</style>\n",
              "<table border=\"1\" class=\"dataframe\">\n",
              "  <thead>\n",
              "    <tr style=\"text-align: right;\">\n",
              "      <th></th>\n",
              "      <th>PassengerId</th>\n",
              "      <th>Survived</th>\n",
              "      <th>Pclass</th>\n",
              "      <th>Age</th>\n",
              "      <th>SibSp</th>\n",
              "      <th>Parch</th>\n",
              "      <th>Fare</th>\n",
              "    </tr>\n",
              "  </thead>\n",
              "  <tbody>\n",
              "    <tr>\n",
              "      <th>0</th>\n",
              "      <td>1</td>\n",
              "      <td>0</td>\n",
              "      <td>3</td>\n",
              "      <td>22.0</td>\n",
              "      <td>1</td>\n",
              "      <td>0</td>\n",
              "      <td>7.2500</td>\n",
              "    </tr>\n",
              "    <tr>\n",
              "      <th>1</th>\n",
              "      <td>2</td>\n",
              "      <td>1</td>\n",
              "      <td>1</td>\n",
              "      <td>38.0</td>\n",
              "      <td>1</td>\n",
              "      <td>0</td>\n",
              "      <td>71.2833</td>\n",
              "    </tr>\n",
              "    <tr>\n",
              "      <th>2</th>\n",
              "      <td>3</td>\n",
              "      <td>1</td>\n",
              "      <td>3</td>\n",
              "      <td>26.0</td>\n",
              "      <td>0</td>\n",
              "      <td>0</td>\n",
              "      <td>7.9250</td>\n",
              "    </tr>\n",
              "    <tr>\n",
              "      <th>3</th>\n",
              "      <td>4</td>\n",
              "      <td>1</td>\n",
              "      <td>1</td>\n",
              "      <td>35.0</td>\n",
              "      <td>1</td>\n",
              "      <td>0</td>\n",
              "      <td>53.1000</td>\n",
              "    </tr>\n",
              "    <tr>\n",
              "      <th>4</th>\n",
              "      <td>5</td>\n",
              "      <td>0</td>\n",
              "      <td>3</td>\n",
              "      <td>35.0</td>\n",
              "      <td>0</td>\n",
              "      <td>0</td>\n",
              "      <td>8.0500</td>\n",
              "    </tr>\n",
              "  </tbody>\n",
              "</table>\n",
              "</div>"
            ],
            "text/plain": [
              "   PassengerId  Survived  Pclass   Age  SibSp  Parch     Fare\n",
              "0            1         0       3  22.0      1      0   7.2500\n",
              "1            2         1       1  38.0      1      0  71.2833\n",
              "2            3         1       3  26.0      0      0   7.9250\n",
              "3            4         1       1  35.0      1      0  53.1000\n",
              "4            5         0       3  35.0      0      0   8.0500"
            ]
          },
          "metadata": {},
          "execution_count": 3
        }
      ]
    },
    {
      "cell_type": "code",
      "metadata": {
        "id": "vsAR3fUJQOXs"
      },
      "source": [
        "#train_test_splitで学習データと評価データに分割\n",
        "from sklearn.model_selection import train_test_split\n",
        "df_train, df_val = train_test_split(df_data, test_size = 0.3, random_state = 0)"
      ],
      "execution_count": 4,
      "outputs": []
    },
    {
      "cell_type": "code",
      "metadata": {
        "id": "GGX1rcBRQQ98"
      },
      "source": [
        "train_y = df_train['Survived']\n",
        "train_x = df_train.drop('Survived', axis=1)\n",
        "val_y = df_val['Survived']\n",
        "val_x = df_val.drop('Survived', axis=1)"
      ],
      "execution_count": 5,
      "outputs": []
    },
    {
      "cell_type": "code",
      "metadata": {
        "id": "FHetaOUbQTUy"
      },
      "source": [
        "#DatasetでLightGBM専用の形式に変換\n",
        "trains = lgb.Dataset(train_x, train_y)\n",
        "valids = lgb.Dataset(val_x, val_y)"
      ],
      "execution_count": 6,
      "outputs": []
    },
    {
      "cell_type": "code",
      "metadata": {
        "id": "mgaILfloQVCo"
      },
      "source": [
        "#パラメータ（学習条件）を辞書型データで設定\n",
        "params = {\n",
        "    \"objective\": \"regression\",\n",
        "    \"metrics\": \"mae\"\n",
        "}\n",
        "#objective:モデルの種類\n",
        "#regression:回帰\n",
        "#metric:どんなスコアでモデルの性能を評価するか\n",
        "#rmse:平均二乗誤差の平方根"
      ],
      "execution_count": 7,
      "outputs": []
    },
    {
      "cell_type": "code",
      "metadata": {
        "colab": {
          "base_uri": "https://localhost:8080/"
        },
        "id": "ftP3cSIJQYDN",
        "outputId": "c48afc79-836e-44b7-b812-fe31a3627c1a"
      },
      "source": [
        "# モデルの学習\n",
        "model = lgb.train(params, trains, valid_sets=valids, num_boost_round=10, early_stopping_rounds=1)"
      ],
      "execution_count": 9,
      "outputs": [
        {
          "output_type": "stream",
          "name": "stdout",
          "text": [
            "[1]\tvalid_0's l1: 0.461354\n",
            "Training until validation scores don't improve for 1 rounds.\n",
            "[2]\tvalid_0's l1: 0.452041\n",
            "[3]\tvalid_0's l1: 0.443666\n",
            "[4]\tvalid_0's l1: 0.434125\n",
            "[5]\tvalid_0's l1: 0.427579\n",
            "[6]\tvalid_0's l1: 0.422273\n",
            "[7]\tvalid_0's l1: 0.417192\n",
            "[8]\tvalid_0's l1: 0.411139\n",
            "[9]\tvalid_0's l1: 0.406206\n",
            "[10]\tvalid_0's l1: 0.401102\n",
            "Did not meet early stopping. Best iteration is:\n",
            "[10]\tvalid_0's l1: 0.401102\n"
          ]
        }
      ]
    },
    {
      "cell_type": "code",
      "metadata": {
        "id": "yTtOddJHQZz6"
      },
      "source": [
        "#params:学習条件(前述の設定したもの)\n",
        "#train_set:学習用データ\n",
        "#test_sets:性能評価に使うデータ（metricで設定した指標で計算）\n",
        "#num_boost_round:モデルを改善する回数"
      ],
      "execution_count": 10,
      "outputs": []
    },
    {
      "cell_type": "code",
      "metadata": {
        "colab": {
          "base_uri": "https://localhost:8080/"
        },
        "id": "WW4FWkY2QgdD",
        "outputId": "2aba39aa-2eef-494a-d5f6-f3efc7cfbb7c"
      },
      "source": [
        "#testデータを渡して、.predictで予測\n",
        "pred = model.predict(val_x)\n",
        "print(pred)"
      ],
      "execution_count": 12,
      "outputs": [
        {
          "output_type": "stream",
          "name": "stdout",
          "text": [
            "[0.22818966 0.27170358 0.1665396  0.5702833  0.39726717 0.40930044\n",
            " 0.71326464 0.61294088 0.60719854 0.28835887 0.26095352 0.44809942\n",
            " 0.55174564 0.74275979 0.61461813 0.57836556 0.25288351 0.45488455\n",
            " 0.15664189 0.53335864 0.35736752 0.64653006 0.1894249  0.28075223\n",
            " 0.24205877 0.65165517 0.380123   0.46886548 0.62469182 0.26772978\n",
            " 0.2399281  0.4173203  0.32534475 0.29501248 0.30109899 0.65478077\n",
            " 0.13124273 0.25745298 0.36338792 0.45531974 0.55948111 0.2536953\n",
            " 0.22818966 0.1546856  0.67427985 0.35161924 0.29740341 0.62954103\n",
            " 0.26496775 0.58854815 0.43939222 0.48396312 0.74275979 0.21964019\n",
            " 0.54750705 0.54203867 0.4262527  0.13638234 0.15794629 0.39621002\n",
            " 0.35894243 0.37539593 0.58854815 0.31084401 0.31499687 0.31242577\n",
            " 0.4726487  0.62469182 0.74275979 0.66538506 0.5391244  0.47200964\n",
            " 0.48226064 0.33628975 0.28937814 0.51268472 0.49718354 0.47731721\n",
            " 0.19633071 0.42069977 0.27993598 0.43323806 0.53525367 0.38318648\n",
            " 0.40334249 0.61705341 0.45182206 0.2399281  0.37819293 0.63075283\n",
            " 0.23757888 0.24752352 0.73984551 0.35184597 0.1546856  0.15779315\n",
            " 0.57427756 0.13638234 0.44358166 0.63007473 0.1546856  0.50053889\n",
            " 0.22317964 0.45140026 0.37366169 0.28313911 0.47136376 0.17229335\n",
            " 0.52442766 0.30619288 0.12394714 0.62029464 0.32900937 0.19845916\n",
            " 0.65165517 0.40897205 0.33297532 0.64238804 0.20613114 0.44856164\n",
            " 0.35049948 0.35365359 0.22160825 0.23418863 0.22203279 0.43258448\n",
            " 0.15779315 0.45309377 0.42071054 0.36337604 0.24151627 0.1717801\n",
            " 0.20132639 0.25820405 0.42714103 0.21924979 0.53839319 0.22203279\n",
            " 0.44856164 0.36338792 0.47136376 0.67427985 0.16592856 0.23306306\n",
            " 0.31084401 0.25288351 0.47136376 0.44437221 0.47031445 0.35365359\n",
            " 0.56097853 0.30788825 0.2399281  0.45309377 0.42577963 0.35831883\n",
            " 0.2399281  0.35492859 0.49182769 0.53335864 0.37383376 0.18069415\n",
            " 0.52061209 0.20223235 0.4223595  0.4432573  0.13124273 0.38028532\n",
            " 0.26404609 0.20448769 0.20466896 0.47731721 0.15779315 0.21432349\n",
            " 0.36958637 0.22022422 0.63556556 0.25684709 0.24871661 0.45564231\n",
            " 0.44058464 0.59958083 0.25858415 0.19292488 0.40334249 0.24382847\n",
            " 0.47611236 0.35831883 0.46886548 0.53525367 0.22084427 0.63333076\n",
            " 0.39112983 0.21605464 0.21202031 0.3875716  0.33628975 0.53335864\n",
            " 0.62578312 0.13124273 0.23522471 0.41065546 0.35492859 0.48086901\n",
            " 0.24871661 0.51268472 0.42805832 0.32977955 0.55275738 0.22256426\n",
            " 0.36777927 0.33104068 0.1665396  0.46737562 0.40802074 0.31008198\n",
            " 0.41000325 0.53335864 0.26524381 0.43778935 0.43116407 0.64823253\n",
            " 0.53335864 0.27254814 0.14916662 0.39164014 0.27680357 0.24358739\n",
            " 0.27680357 0.35608434 0.17400573 0.57719183 0.23457928 0.25589632\n",
            " 0.43258448 0.36170004 0.67427985 0.74275979 0.49323973 0.43618685\n",
            " 0.19511261 0.65753755 0.41180263 0.43843396 0.64409051 0.45564231\n",
            " 0.30014651 0.23484495 0.35850428 0.3655741  0.20832409 0.39638417\n",
            " 0.60498877 0.35831883 0.14916662 0.33297532 0.2445509  0.22256426\n",
            " 0.26772978 0.26123458 0.35161924 0.37831472 0.13124273 0.35397728\n",
            " 0.30656572 0.35639782 0.18069415 0.42356069]\n"
          ]
        }
      ]
    },
    {
      "cell_type": "code",
      "metadata": {
        "colab": {
          "base_uri": "https://localhost:8080/",
          "height": 404
        },
        "id": "jrUX4KScQiIi",
        "outputId": "3b5d7b90-12d1-404c-d384-e19a6d95aad8"
      },
      "source": [
        "#特徴量の重要度を表す\n",
        "import matplotlib.pyplot as plt\n",
        "lgb.plot_importance(model, height = 0.5, figsize = (8,6))\n",
        "plt.show()"
      ],
      "execution_count": 16,
      "outputs": [
        {
          "output_type": "display_data",
          "data": {
            "image/png": "[encoded data removed]",
            "text/plain": [
              "<Figure size 576x432 with 1 Axes>"
            ]
          },
          "metadata": {
            "needs_background": "light"
          }
        }
      ]
    },
    {
      "cell_type": "code",
      "metadata": {
        "id": "W-kv_faCQl82"
      },
      "source": [
        ""
      ],
      "execution_count": null,
      "outputs": []
    }
  ]
}