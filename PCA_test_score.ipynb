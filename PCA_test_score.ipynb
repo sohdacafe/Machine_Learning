{
  "nbformat": 4,
  "nbformat_minor": 0,
  "metadata": {
    "colab": {
      "name": "PCA_test_score.ipynb",
      "provenance": [],
      "collapsed_sections": [],
      "authorship_tag": "ABX9TyNDwdvehaiZ8vILCAOZeM0B",
      "include_colab_link": true
    },
    "kernelspec": {
      "name": "python3",
      "display_name": "Python 3"
    },
    "language_info": {
      "name": "python"
    }
  },
  "cells": [
    {
      "cell_type": "markdown",
      "metadata": {
        "id": "view-in-github",
        "colab_type": "text"
      },
      "source": [
        "<a href=\"https://colab.research.google.com/github/sohdacafe/Machine_Learning/blob/main/PCA_test_score.ipynb\" target=\"_parent\"><img src=\"https://colab.research.google.com/assets/colab-badge.svg\" alt=\"Open In Colab\"/></a>"
      ]
    },
    {
      "cell_type": "code",
      "metadata": {
        "id": "vdDrwlO4RfnV"
      },
      "source": [
        "import pandas as pd\n",
        "import seaborn as sns\n",
        "import matplotlib.pyplot as plt"
      ],
      "execution_count": 97,
      "outputs": []
    },
    {
      "cell_type": "code",
      "metadata": {
        "colab": {
          "base_uri": "https://localhost:8080/",
          "height": 143
        },
        "id": "TkGu68VRTJN-",
        "outputId": "71483a14-fb33-4679-85e4-1b4b76ebcb5a"
      },
      "source": [
        "filename = 'seiseki.csv'\n",
        "df = pd.read_csv(filename)\n",
        "df.head(3)"
      ],
      "execution_count": 43,
      "outputs": [
        {
          "output_type": "execute_result",
          "data": {
            "text/html": [
              "<div>\n",
              "<style scoped>\n",
              "    .dataframe tbody tr th:only-of-type {\n",
              "        vertical-align: middle;\n",
              "    }\n",
              "\n",
              "    .dataframe tbody tr th {\n",
              "        vertical-align: top;\n",
              "    }\n",
              "\n",
              "    .dataframe thead th {\n",
              "        text-align: right;\n",
              "    }\n",
              "</style>\n",
              "<table border=\"1\" class=\"dataframe\">\n",
              "  <thead>\n",
              "    <tr style=\"text-align: right;\">\n",
              "      <th></th>\n",
              "      <th>kokugo</th>\n",
              "      <th>shakai</th>\n",
              "      <th>sugaku</th>\n",
              "      <th>rika</th>\n",
              "      <th>ongaku</th>\n",
              "      <th>bijutu</th>\n",
              "      <th>taiiku</th>\n",
              "      <th>gika</th>\n",
              "      <th>eigo</th>\n",
              "    </tr>\n",
              "  </thead>\n",
              "  <tbody>\n",
              "    <tr>\n",
              "      <th>0</th>\n",
              "      <td>30</td>\n",
              "      <td>43</td>\n",
              "      <td>51</td>\n",
              "      <td>63</td>\n",
              "      <td>60</td>\n",
              "      <td>66</td>\n",
              "      <td>37</td>\n",
              "      <td>44</td>\n",
              "      <td>20</td>\n",
              "    </tr>\n",
              "    <tr>\n",
              "      <th>1</th>\n",
              "      <td>39</td>\n",
              "      <td>21</td>\n",
              "      <td>49</td>\n",
              "      <td>56</td>\n",
              "      <td>70</td>\n",
              "      <td>72</td>\n",
              "      <td>56</td>\n",
              "      <td>63</td>\n",
              "      <td>16</td>\n",
              "    </tr>\n",
              "    <tr>\n",
              "      <th>2</th>\n",
              "      <td>29</td>\n",
              "      <td>30</td>\n",
              "      <td>23</td>\n",
              "      <td>57</td>\n",
              "      <td>69</td>\n",
              "      <td>76</td>\n",
              "      <td>33</td>\n",
              "      <td>54</td>\n",
              "      <td>6</td>\n",
              "    </tr>\n",
              "  </tbody>\n",
              "</table>\n",
              "</div>"
            ],
            "text/plain": [
              "   kokugo  shakai  sugaku  rika  ongaku  bijutu  taiiku  gika  eigo\n",
              "0      30      43      51    63      60      66      37    44    20\n",
              "1      39      21      49    56      70      72      56    63    16\n",
              "2      29      30      23    57      69      76      33    54     6"
            ]
          },
          "metadata": {},
          "execution_count": 43
        }
      ]
    },
    {
      "cell_type": "code",
      "metadata": {
        "colab": {
          "base_uri": "https://localhost:8080/",
          "height": 143
        },
        "id": "D8uUkvLKTTlc",
        "outputId": "e8a93de8-a0f2-47b2-ed39-14ae5d081797"
      },
      "source": [
        "df['sum']=0\n",
        "df['sum']=df.sum(axis=1)\n",
        "df.head(3)"
      ],
      "execution_count": 44,
      "outputs": [
        {
          "output_type": "execute_result",
          "data": {
            "text/html": [
              "<div>\n",
              "<style scoped>\n",
              "    .dataframe tbody tr th:only-of-type {\n",
              "        vertical-align: middle;\n",
              "    }\n",
              "\n",
              "    .dataframe tbody tr th {\n",
              "        vertical-align: top;\n",
              "    }\n",
              "\n",
              "    .dataframe thead th {\n",
              "        text-align: right;\n",
              "    }\n",
              "</style>\n",
              "<table border=\"1\" class=\"dataframe\">\n",
              "  <thead>\n",
              "    <tr style=\"text-align: right;\">\n",
              "      <th></th>\n",
              "      <th>kokugo</th>\n",
              "      <th>shakai</th>\n",
              "      <th>sugaku</th>\n",
              "      <th>rika</th>\n",
              "      <th>ongaku</th>\n",
              "      <th>bijutu</th>\n",
              "      <th>taiiku</th>\n",
              "      <th>gika</th>\n",
              "      <th>eigo</th>\n",
              "      <th>sum</th>\n",
              "    </tr>\n",
              "  </thead>\n",
              "  <tbody>\n",
              "    <tr>\n",
              "      <th>0</th>\n",
              "      <td>30</td>\n",
              "      <td>43</td>\n",
              "      <td>51</td>\n",
              "      <td>63</td>\n",
              "      <td>60</td>\n",
              "      <td>66</td>\n",
              "      <td>37</td>\n",
              "      <td>44</td>\n",
              "      <td>20</td>\n",
              "      <td>414</td>\n",
              "    </tr>\n",
              "    <tr>\n",
              "      <th>1</th>\n",
              "      <td>39</td>\n",
              "      <td>21</td>\n",
              "      <td>49</td>\n",
              "      <td>56</td>\n",
              "      <td>70</td>\n",
              "      <td>72</td>\n",
              "      <td>56</td>\n",
              "      <td>63</td>\n",
              "      <td>16</td>\n",
              "      <td>442</td>\n",
              "    </tr>\n",
              "    <tr>\n",
              "      <th>2</th>\n",
              "      <td>29</td>\n",
              "      <td>30</td>\n",
              "      <td>23</td>\n",
              "      <td>57</td>\n",
              "      <td>69</td>\n",
              "      <td>76</td>\n",
              "      <td>33</td>\n",
              "      <td>54</td>\n",
              "      <td>6</td>\n",
              "      <td>377</td>\n",
              "    </tr>\n",
              "  </tbody>\n",
              "</table>\n",
              "</div>"
            ],
            "text/plain": [
              "   kokugo  shakai  sugaku  rika  ongaku  bijutu  taiiku  gika  eigo  sum\n",
              "0      30      43      51    63      60      66      37    44    20  414\n",
              "1      39      21      49    56      70      72      56    63    16  442\n",
              "2      29      30      23    57      69      76      33    54     6  377"
            ]
          },
          "metadata": {},
          "execution_count": 44
        }
      ]
    },
    {
      "cell_type": "code",
      "metadata": {
        "colab": {
          "base_uri": "https://localhost:8080/",
          "height": 143
        },
        "id": "nJjIr4DYT02s",
        "outputId": "0ca13e7d-53e3-4aca-943b-9d09380b7213"
      },
      "source": [
        "df['ave']=0\n",
        "df['ave'] = df.iloc[:,0:9].mean(axis=1)\n",
        "df.head(3)"
      ],
      "execution_count": 45,
      "outputs": [
        {
          "output_type": "execute_result",
          "data": {
            "text/html": [
              "<div>\n",
              "<style scoped>\n",
              "    .dataframe tbody tr th:only-of-type {\n",
              "        vertical-align: middle;\n",
              "    }\n",
              "\n",
              "    .dataframe tbody tr th {\n",
              "        vertical-align: top;\n",
              "    }\n",
              "\n",
              "    .dataframe thead th {\n",
              "        text-align: right;\n",
              "    }\n",
              "</style>\n",
              "<table border=\"1\" class=\"dataframe\">\n",
              "  <thead>\n",
              "    <tr style=\"text-align: right;\">\n",
              "      <th></th>\n",
              "      <th>kokugo</th>\n",
              "      <th>shakai</th>\n",
              "      <th>sugaku</th>\n",
              "      <th>rika</th>\n",
              "      <th>ongaku</th>\n",
              "      <th>bijutu</th>\n",
              "      <th>taiiku</th>\n",
              "      <th>gika</th>\n",
              "      <th>eigo</th>\n",
              "      <th>sum</th>\n",
              "      <th>ave</th>\n",
              "    </tr>\n",
              "  </thead>\n",
              "  <tbody>\n",
              "    <tr>\n",
              "      <th>0</th>\n",
              "      <td>30</td>\n",
              "      <td>43</td>\n",
              "      <td>51</td>\n",
              "      <td>63</td>\n",
              "      <td>60</td>\n",
              "      <td>66</td>\n",
              "      <td>37</td>\n",
              "      <td>44</td>\n",
              "      <td>20</td>\n",
              "      <td>414</td>\n",
              "      <td>46.000000</td>\n",
              "    </tr>\n",
              "    <tr>\n",
              "      <th>1</th>\n",
              "      <td>39</td>\n",
              "      <td>21</td>\n",
              "      <td>49</td>\n",
              "      <td>56</td>\n",
              "      <td>70</td>\n",
              "      <td>72</td>\n",
              "      <td>56</td>\n",
              "      <td>63</td>\n",
              "      <td>16</td>\n",
              "      <td>442</td>\n",
              "      <td>49.111111</td>\n",
              "    </tr>\n",
              "    <tr>\n",
              "      <th>2</th>\n",
              "      <td>29</td>\n",
              "      <td>30</td>\n",
              "      <td>23</td>\n",
              "      <td>57</td>\n",
              "      <td>69</td>\n",
              "      <td>76</td>\n",
              "      <td>33</td>\n",
              "      <td>54</td>\n",
              "      <td>6</td>\n",
              "      <td>377</td>\n",
              "      <td>41.888889</td>\n",
              "    </tr>\n",
              "  </tbody>\n",
              "</table>\n",
              "</div>"
            ],
            "text/plain": [
              "   kokugo  shakai  sugaku  rika  ongaku  ...  taiiku  gika  eigo  sum        ave\n",
              "0      30      43      51    63      60  ...      37    44    20  414  46.000000\n",
              "1      39      21      49    56      70  ...      56    63    16  442  49.111111\n",
              "2      29      30      23    57      69  ...      33    54     6  377  41.888889\n",
              "\n",
              "[3 rows x 11 columns]"
            ]
          },
          "metadata": {},
          "execution_count": 45
        }
      ]
    },
    {
      "cell_type": "code",
      "metadata": {
        "colab": {
          "base_uri": "https://localhost:8080/",
          "height": 143
        },
        "id": "208VTIXDZ2B1",
        "outputId": "4d9b4097-5e0d-4a66-bbf0-f6584ed7cef8"
      },
      "source": [
        "df['std']=0\n",
        "df['std'] = df.iloc[:,0:9].std(axis=1)\n",
        "df.head(3)"
      ],
      "execution_count": 46,
      "outputs": [
        {
          "output_type": "execute_result",
          "data": {
            "text/html": [
              "<div>\n",
              "<style scoped>\n",
              "    .dataframe tbody tr th:only-of-type {\n",
              "        vertical-align: middle;\n",
              "    }\n",
              "\n",
              "    .dataframe tbody tr th {\n",
              "        vertical-align: top;\n",
              "    }\n",
              "\n",
              "    .dataframe thead th {\n",
              "        text-align: right;\n",
              "    }\n",
              "</style>\n",
              "<table border=\"1\" class=\"dataframe\">\n",
              "  <thead>\n",
              "    <tr style=\"text-align: right;\">\n",
              "      <th></th>\n",
              "      <th>kokugo</th>\n",
              "      <th>shakai</th>\n",
              "      <th>sugaku</th>\n",
              "      <th>rika</th>\n",
              "      <th>ongaku</th>\n",
              "      <th>bijutu</th>\n",
              "      <th>taiiku</th>\n",
              "      <th>gika</th>\n",
              "      <th>eigo</th>\n",
              "      <th>sum</th>\n",
              "      <th>ave</th>\n",
              "      <th>std</th>\n",
              "    </tr>\n",
              "  </thead>\n",
              "  <tbody>\n",
              "    <tr>\n",
              "      <th>0</th>\n",
              "      <td>30</td>\n",
              "      <td>43</td>\n",
              "      <td>51</td>\n",
              "      <td>63</td>\n",
              "      <td>60</td>\n",
              "      <td>66</td>\n",
              "      <td>37</td>\n",
              "      <td>44</td>\n",
              "      <td>20</td>\n",
              "      <td>414</td>\n",
              "      <td>46.000000</td>\n",
              "      <td>15.556349</td>\n",
              "    </tr>\n",
              "    <tr>\n",
              "      <th>1</th>\n",
              "      <td>39</td>\n",
              "      <td>21</td>\n",
              "      <td>49</td>\n",
              "      <td>56</td>\n",
              "      <td>70</td>\n",
              "      <td>72</td>\n",
              "      <td>56</td>\n",
              "      <td>63</td>\n",
              "      <td>16</td>\n",
              "      <td>442</td>\n",
              "      <td>49.111111</td>\n",
              "      <td>20.114947</td>\n",
              "    </tr>\n",
              "    <tr>\n",
              "      <th>2</th>\n",
              "      <td>29</td>\n",
              "      <td>30</td>\n",
              "      <td>23</td>\n",
              "      <td>57</td>\n",
              "      <td>69</td>\n",
              "      <td>76</td>\n",
              "      <td>33</td>\n",
              "      <td>54</td>\n",
              "      <td>6</td>\n",
              "      <td>377</td>\n",
              "      <td>41.888889</td>\n",
              "      <td>23.197222</td>\n",
              "    </tr>\n",
              "  </tbody>\n",
              "</table>\n",
              "</div>"
            ],
            "text/plain": [
              "   kokugo  shakai  sugaku  rika  ongaku  ...  gika  eigo  sum        ave        std\n",
              "0      30      43      51    63      60  ...    44    20  414  46.000000  15.556349\n",
              "1      39      21      49    56      70  ...    63    16  442  49.111111  20.114947\n",
              "2      29      30      23    57      69  ...    54     6  377  41.888889  23.197222\n",
              "\n",
              "[3 rows x 12 columns]"
            ]
          },
          "metadata": {},
          "execution_count": 46
        }
      ]
    },
    {
      "cell_type": "code",
      "metadata": {
        "colab": {
          "base_uri": "https://localhost:8080/",
          "height": 143
        },
        "id": "uuOc72CIcdZ4",
        "outputId": "57580d42-5d6e-4270-f543-198d58e61b2b"
      },
      "source": [
        "df[df['ave']>85]"
      ],
      "execution_count": 54,
      "outputs": [
        {
          "output_type": "execute_result",
          "data": {
            "text/html": [
              "<div>\n",
              "<style scoped>\n",
              "    .dataframe tbody tr th:only-of-type {\n",
              "        vertical-align: middle;\n",
              "    }\n",
              "\n",
              "    .dataframe tbody tr th {\n",
              "        vertical-align: top;\n",
              "    }\n",
              "\n",
              "    .dataframe thead th {\n",
              "        text-align: right;\n",
              "    }\n",
              "</style>\n",
              "<table border=\"1\" class=\"dataframe\">\n",
              "  <thead>\n",
              "    <tr style=\"text-align: right;\">\n",
              "      <th></th>\n",
              "      <th>kokugo</th>\n",
              "      <th>shakai</th>\n",
              "      <th>sugaku</th>\n",
              "      <th>rika</th>\n",
              "      <th>ongaku</th>\n",
              "      <th>bijutu</th>\n",
              "      <th>taiiku</th>\n",
              "      <th>gika</th>\n",
              "      <th>eigo</th>\n",
              "      <th>sum</th>\n",
              "      <th>ave</th>\n",
              "      <th>std</th>\n",
              "    </tr>\n",
              "  </thead>\n",
              "  <tbody>\n",
              "    <tr>\n",
              "      <th>3</th>\n",
              "      <td>95</td>\n",
              "      <td>87</td>\n",
              "      <td>77</td>\n",
              "      <td>100</td>\n",
              "      <td>77</td>\n",
              "      <td>82</td>\n",
              "      <td>78</td>\n",
              "      <td>96</td>\n",
              "      <td>87</td>\n",
              "      <td>779</td>\n",
              "      <td>86.555556</td>\n",
              "      <td>8.790778</td>\n",
              "    </tr>\n",
              "    <tr>\n",
              "      <th>38</th>\n",
              "      <td>84</td>\n",
              "      <td>90</td>\n",
              "      <td>87</td>\n",
              "      <td>100</td>\n",
              "      <td>93</td>\n",
              "      <td>75</td>\n",
              "      <td>54</td>\n",
              "      <td>100</td>\n",
              "      <td>90</td>\n",
              "      <td>773</td>\n",
              "      <td>85.888889</td>\n",
              "      <td>14.242932</td>\n",
              "    </tr>\n",
              "    <tr>\n",
              "      <th>155</th>\n",
              "      <td>91</td>\n",
              "      <td>69</td>\n",
              "      <td>100</td>\n",
              "      <td>83</td>\n",
              "      <td>96</td>\n",
              "      <td>74</td>\n",
              "      <td>91</td>\n",
              "      <td>74</td>\n",
              "      <td>91</td>\n",
              "      <td>769</td>\n",
              "      <td>85.444444</td>\n",
              "      <td>10.921437</td>\n",
              "    </tr>\n",
              "  </tbody>\n",
              "</table>\n",
              "</div>"
            ],
            "text/plain": [
              "     kokugo  shakai  sugaku  rika  ...  eigo  sum        ave        std\n",
              "3        95      87      77   100  ...    87  779  86.555556   8.790778\n",
              "38       84      90      87   100  ...    90  773  85.888889  14.242932\n",
              "155      91      69     100    83  ...    91  769  85.444444  10.921437\n",
              "\n",
              "[3 rows x 12 columns]"
            ]
          },
          "metadata": {},
          "execution_count": 54
        }
      ]
    },
    {
      "cell_type": "code",
      "metadata": {
        "colab": {
          "base_uri": "https://localhost:8080/",
          "height": 143
        },
        "id": "qT3X4ericsf9",
        "outputId": "732a7be6-9888-4e25-e555-7c076bc045da"
      },
      "source": [
        "df[['sugaku','rika']].head(3)"
      ],
      "execution_count": 57,
      "outputs": [
        {
          "output_type": "execute_result",
          "data": {
            "text/html": [
              "<div>\n",
              "<style scoped>\n",
              "    .dataframe tbody tr th:only-of-type {\n",
              "        vertical-align: middle;\n",
              "    }\n",
              "\n",
              "    .dataframe tbody tr th {\n",
              "        vertical-align: top;\n",
              "    }\n",
              "\n",
              "    .dataframe thead th {\n",
              "        text-align: right;\n",
              "    }\n",
              "</style>\n",
              "<table border=\"1\" class=\"dataframe\">\n",
              "  <thead>\n",
              "    <tr style=\"text-align: right;\">\n",
              "      <th></th>\n",
              "      <th>sugaku</th>\n",
              "      <th>rika</th>\n",
              "    </tr>\n",
              "  </thead>\n",
              "  <tbody>\n",
              "    <tr>\n",
              "      <th>0</th>\n",
              "      <td>51</td>\n",
              "      <td>63</td>\n",
              "    </tr>\n",
              "    <tr>\n",
              "      <th>1</th>\n",
              "      <td>49</td>\n",
              "      <td>56</td>\n",
              "    </tr>\n",
              "    <tr>\n",
              "      <th>2</th>\n",
              "      <td>23</td>\n",
              "      <td>57</td>\n",
              "    </tr>\n",
              "  </tbody>\n",
              "</table>\n",
              "</div>"
            ],
            "text/plain": [
              "   sugaku  rika\n",
              "0      51    63\n",
              "1      49    56\n",
              "2      23    57"
            ]
          },
          "metadata": {},
          "execution_count": 57
        }
      ]
    },
    {
      "cell_type": "code",
      "metadata": {
        "colab": {
          "base_uri": "https://localhost:8080/",
          "height": 300
        },
        "id": "BU7lPDcGdWCV",
        "outputId": "ac2091b5-c7cb-48f6-8619-61b5d8874e76"
      },
      "source": [
        "df.describe()"
      ],
      "execution_count": 62,
      "outputs": [
        {
          "output_type": "execute_result",
          "data": {
            "text/html": [
              "<div>\n",
              "<style scoped>\n",
              "    .dataframe tbody tr th:only-of-type {\n",
              "        vertical-align: middle;\n",
              "    }\n",
              "\n",
              "    .dataframe tbody tr th {\n",
              "        vertical-align: top;\n",
              "    }\n",
              "\n",
              "    .dataframe thead th {\n",
              "        text-align: right;\n",
              "    }\n",
              "</style>\n",
              "<table border=\"1\" class=\"dataframe\">\n",
              "  <thead>\n",
              "    <tr style=\"text-align: right;\">\n",
              "      <th></th>\n",
              "      <th>kokugo</th>\n",
              "      <th>shakai</th>\n",
              "      <th>sugaku</th>\n",
              "      <th>rika</th>\n",
              "      <th>ongaku</th>\n",
              "      <th>bijutu</th>\n",
              "      <th>taiiku</th>\n",
              "      <th>gika</th>\n",
              "      <th>eigo</th>\n",
              "      <th>sum</th>\n",
              "      <th>ave</th>\n",
              "      <th>std</th>\n",
              "    </tr>\n",
              "  </thead>\n",
              "  <tbody>\n",
              "    <tr>\n",
              "      <th>count</th>\n",
              "      <td>166.000000</td>\n",
              "      <td>166.000000</td>\n",
              "      <td>166.000000</td>\n",
              "      <td>166.000000</td>\n",
              "      <td>166.000000</td>\n",
              "      <td>166.000000</td>\n",
              "      <td>166.000000</td>\n",
              "      <td>166.000000</td>\n",
              "      <td>166.000000</td>\n",
              "      <td>166.000000</td>\n",
              "      <td>166.000000</td>\n",
              "      <td>166.000000</td>\n",
              "    </tr>\n",
              "    <tr>\n",
              "      <th>mean</th>\n",
              "      <td>52.331325</td>\n",
              "      <td>39.602410</td>\n",
              "      <td>45.614458</td>\n",
              "      <td>49.885542</td>\n",
              "      <td>42.331325</td>\n",
              "      <td>62.457831</td>\n",
              "      <td>57.740964</td>\n",
              "      <td>47.307229</td>\n",
              "      <td>39.084337</td>\n",
              "      <td>436.355422</td>\n",
              "      <td>48.483936</td>\n",
              "      <td>16.499346</td>\n",
              "    </tr>\n",
              "    <tr>\n",
              "      <th>std</th>\n",
              "      <td>21.835858</td>\n",
              "      <td>21.456335</td>\n",
              "      <td>24.236127</td>\n",
              "      <td>21.408130</td>\n",
              "      <td>22.894855</td>\n",
              "      <td>17.188298</td>\n",
              "      <td>26.577943</td>\n",
              "      <td>22.519397</td>\n",
              "      <td>29.507351</td>\n",
              "      <td>165.504811</td>\n",
              "      <td>18.389423</td>\n",
              "      <td>4.577944</td>\n",
              "    </tr>\n",
              "    <tr>\n",
              "      <th>min</th>\n",
              "      <td>0.000000</td>\n",
              "      <td>4.000000</td>\n",
              "      <td>0.000000</td>\n",
              "      <td>9.000000</td>\n",
              "      <td>2.000000</td>\n",
              "      <td>15.000000</td>\n",
              "      <td>2.000000</td>\n",
              "      <td>2.000000</td>\n",
              "      <td>0.000000</td>\n",
              "      <td>87.000000</td>\n",
              "      <td>9.666667</td>\n",
              "      <td>5.174725</td>\n",
              "    </tr>\n",
              "    <tr>\n",
              "      <th>25%</th>\n",
              "      <td>35.000000</td>\n",
              "      <td>23.000000</td>\n",
              "      <td>28.000000</td>\n",
              "      <td>31.000000</td>\n",
              "      <td>25.250000</td>\n",
              "      <td>52.000000</td>\n",
              "      <td>35.250000</td>\n",
              "      <td>31.250000</td>\n",
              "      <td>12.000000</td>\n",
              "      <td>308.250000</td>\n",
              "      <td>34.250000</td>\n",
              "      <td>13.158689</td>\n",
              "    </tr>\n",
              "    <tr>\n",
              "      <th>50%</th>\n",
              "      <td>53.000000</td>\n",
              "      <td>35.000000</td>\n",
              "      <td>43.000000</td>\n",
              "      <td>49.000000</td>\n",
              "      <td>41.500000</td>\n",
              "      <td>65.000000</td>\n",
              "      <td>60.000000</td>\n",
              "      <td>48.500000</td>\n",
              "      <td>35.000000</td>\n",
              "      <td>439.000000</td>\n",
              "      <td>48.777778</td>\n",
              "      <td>16.689142</td>\n",
              "    </tr>\n",
              "    <tr>\n",
              "      <th>75%</th>\n",
              "      <td>70.000000</td>\n",
              "      <td>53.750000</td>\n",
              "      <td>63.750000</td>\n",
              "      <td>65.750000</td>\n",
              "      <td>58.750000</td>\n",
              "      <td>75.750000</td>\n",
              "      <td>82.000000</td>\n",
              "      <td>65.000000</td>\n",
              "      <td>66.750000</td>\n",
              "      <td>561.000000</td>\n",
              "      <td>62.333333</td>\n",
              "      <td>19.377822</td>\n",
              "    </tr>\n",
              "    <tr>\n",
              "      <th>max</th>\n",
              "      <td>96.000000</td>\n",
              "      <td>90.000000</td>\n",
              "      <td>100.000000</td>\n",
              "      <td>100.000000</td>\n",
              "      <td>96.000000</td>\n",
              "      <td>99.000000</td>\n",
              "      <td>99.000000</td>\n",
              "      <td>100.000000</td>\n",
              "      <td>99.000000</td>\n",
              "      <td>779.000000</td>\n",
              "      <td>86.555556</td>\n",
              "      <td>28.672480</td>\n",
              "    </tr>\n",
              "  </tbody>\n",
              "</table>\n",
              "</div>"
            ],
            "text/plain": [
              "           kokugo      shakai      sugaku  ...         sum         ave         std\n",
              "count  166.000000  166.000000  166.000000  ...  166.000000  166.000000  166.000000\n",
              "mean    52.331325   39.602410   45.614458  ...  436.355422   48.483936   16.499346\n",
              "std     21.835858   21.456335   24.236127  ...  165.504811   18.389423    4.577944\n",
              "min      0.000000    4.000000    0.000000  ...   87.000000    9.666667    5.174725\n",
              "25%     35.000000   23.000000   28.000000  ...  308.250000   34.250000   13.158689\n",
              "50%     53.000000   35.000000   43.000000  ...  439.000000   48.777778   16.689142\n",
              "75%     70.000000   53.750000   63.750000  ...  561.000000   62.333333   19.377822\n",
              "max     96.000000   90.000000  100.000000  ...  779.000000   86.555556   28.672480\n",
              "\n",
              "[8 rows x 12 columns]"
            ]
          },
          "metadata": {},
          "execution_count": 62
        }
      ]
    },
    {
      "cell_type": "code",
      "metadata": {
        "id": "JMf_2ZBLf2AC"
      },
      "source": [
        "pd.options.display.precision = 2"
      ],
      "execution_count": 65,
      "outputs": []
    },
    {
      "cell_type": "code",
      "metadata": {
        "colab": {
          "base_uri": "https://localhost:8080/",
          "height": 300
        },
        "id": "RvNsxcBAg_9H",
        "outputId": "5bac96d4-d152-442b-b381-e6b31912aefb"
      },
      "source": [
        "df.describe()"
      ],
      "execution_count": 66,
      "outputs": [
        {
          "output_type": "execute_result",
          "data": {
            "text/html": [
              "<div>\n",
              "<style scoped>\n",
              "    .dataframe tbody tr th:only-of-type {\n",
              "        vertical-align: middle;\n",
              "    }\n",
              "\n",
              "    .dataframe tbody tr th {\n",
              "        vertical-align: top;\n",
              "    }\n",
              "\n",
              "    .dataframe thead th {\n",
              "        text-align: right;\n",
              "    }\n",
              "</style>\n",
              "<table border=\"1\" class=\"dataframe\">\n",
              "  <thead>\n",
              "    <tr style=\"text-align: right;\">\n",
              "      <th></th>\n",
              "      <th>kokugo</th>\n",
              "      <th>shakai</th>\n",
              "      <th>sugaku</th>\n",
              "      <th>rika</th>\n",
              "      <th>ongaku</th>\n",
              "      <th>bijutu</th>\n",
              "      <th>taiiku</th>\n",
              "      <th>gika</th>\n",
              "      <th>eigo</th>\n",
              "      <th>sum</th>\n",
              "      <th>ave</th>\n",
              "      <th>std</th>\n",
              "    </tr>\n",
              "  </thead>\n",
              "  <tbody>\n",
              "    <tr>\n",
              "      <th>count</th>\n",
              "      <td>166.00</td>\n",
              "      <td>166.00</td>\n",
              "      <td>166.00</td>\n",
              "      <td>166.00</td>\n",
              "      <td>166.00</td>\n",
              "      <td>166.00</td>\n",
              "      <td>166.00</td>\n",
              "      <td>166.00</td>\n",
              "      <td>166.00</td>\n",
              "      <td>166.00</td>\n",
              "      <td>166.00</td>\n",
              "      <td>166.00</td>\n",
              "    </tr>\n",
              "    <tr>\n",
              "      <th>mean</th>\n",
              "      <td>52.33</td>\n",
              "      <td>39.60</td>\n",
              "      <td>45.61</td>\n",
              "      <td>49.89</td>\n",
              "      <td>42.33</td>\n",
              "      <td>62.46</td>\n",
              "      <td>57.74</td>\n",
              "      <td>47.31</td>\n",
              "      <td>39.08</td>\n",
              "      <td>436.36</td>\n",
              "      <td>48.48</td>\n",
              "      <td>16.50</td>\n",
              "    </tr>\n",
              "    <tr>\n",
              "      <th>std</th>\n",
              "      <td>21.84</td>\n",
              "      <td>21.46</td>\n",
              "      <td>24.24</td>\n",
              "      <td>21.41</td>\n",
              "      <td>22.89</td>\n",
              "      <td>17.19</td>\n",
              "      <td>26.58</td>\n",
              "      <td>22.52</td>\n",
              "      <td>29.51</td>\n",
              "      <td>165.50</td>\n",
              "      <td>18.39</td>\n",
              "      <td>4.58</td>\n",
              "    </tr>\n",
              "    <tr>\n",
              "      <th>min</th>\n",
              "      <td>0.00</td>\n",
              "      <td>4.00</td>\n",
              "      <td>0.00</td>\n",
              "      <td>9.00</td>\n",
              "      <td>2.00</td>\n",
              "      <td>15.00</td>\n",
              "      <td>2.00</td>\n",
              "      <td>2.00</td>\n",
              "      <td>0.00</td>\n",
              "      <td>87.00</td>\n",
              "      <td>9.67</td>\n",
              "      <td>5.17</td>\n",
              "    </tr>\n",
              "    <tr>\n",
              "      <th>25%</th>\n",
              "      <td>35.00</td>\n",
              "      <td>23.00</td>\n",
              "      <td>28.00</td>\n",
              "      <td>31.00</td>\n",
              "      <td>25.25</td>\n",
              "      <td>52.00</td>\n",
              "      <td>35.25</td>\n",
              "      <td>31.25</td>\n",
              "      <td>12.00</td>\n",
              "      <td>308.25</td>\n",
              "      <td>34.25</td>\n",
              "      <td>13.16</td>\n",
              "    </tr>\n",
              "    <tr>\n",
              "      <th>50%</th>\n",
              "      <td>53.00</td>\n",
              "      <td>35.00</td>\n",
              "      <td>43.00</td>\n",
              "      <td>49.00</td>\n",
              "      <td>41.50</td>\n",
              "      <td>65.00</td>\n",
              "      <td>60.00</td>\n",
              "      <td>48.50</td>\n",
              "      <td>35.00</td>\n",
              "      <td>439.00</td>\n",
              "      <td>48.78</td>\n",
              "      <td>16.69</td>\n",
              "    </tr>\n",
              "    <tr>\n",
              "      <th>75%</th>\n",
              "      <td>70.00</td>\n",
              "      <td>53.75</td>\n",
              "      <td>63.75</td>\n",
              "      <td>65.75</td>\n",
              "      <td>58.75</td>\n",
              "      <td>75.75</td>\n",
              "      <td>82.00</td>\n",
              "      <td>65.00</td>\n",
              "      <td>66.75</td>\n",
              "      <td>561.00</td>\n",
              "      <td>62.33</td>\n",
              "      <td>19.38</td>\n",
              "    </tr>\n",
              "    <tr>\n",
              "      <th>max</th>\n",
              "      <td>96.00</td>\n",
              "      <td>90.00</td>\n",
              "      <td>100.00</td>\n",
              "      <td>100.00</td>\n",
              "      <td>96.00</td>\n",
              "      <td>99.00</td>\n",
              "      <td>99.00</td>\n",
              "      <td>100.00</td>\n",
              "      <td>99.00</td>\n",
              "      <td>779.00</td>\n",
              "      <td>86.56</td>\n",
              "      <td>28.67</td>\n",
              "    </tr>\n",
              "  </tbody>\n",
              "</table>\n",
              "</div>"
            ],
            "text/plain": [
              "       kokugo  shakai  sugaku    rika  ...    eigo     sum     ave     std\n",
              "count  166.00  166.00  166.00  166.00  ...  166.00  166.00  166.00  166.00\n",
              "mean    52.33   39.60   45.61   49.89  ...   39.08  436.36   48.48   16.50\n",
              "std     21.84   21.46   24.24   21.41  ...   29.51  165.50   18.39    4.58\n",
              "min      0.00    4.00    0.00    9.00  ...    0.00   87.00    9.67    5.17\n",
              "25%     35.00   23.00   28.00   31.00  ...   12.00  308.25   34.25   13.16\n",
              "50%     53.00   35.00   43.00   49.00  ...   35.00  439.00   48.78   16.69\n",
              "75%     70.00   53.75   63.75   65.75  ...   66.75  561.00   62.33   19.38\n",
              "max     96.00   90.00  100.00  100.00  ...   99.00  779.00   86.56   28.67\n",
              "\n",
              "[8 rows x 12 columns]"
            ]
          },
          "metadata": {},
          "execution_count": 66
        }
      ]
    },
    {
      "cell_type": "code",
      "metadata": {
        "colab": {
          "base_uri": "https://localhost:8080/",
          "height": 331
        },
        "id": "EPoDpswmhCRN",
        "outputId": "d69555ad-0c09-49b5-deac-95096c4b7d90"
      },
      "source": [
        "df_corr=df.iloc[:,0:9].corr()\n",
        "df_corr"
      ],
      "execution_count": 69,
      "outputs": [
        {
          "output_type": "execute_result",
          "data": {
            "text/html": [
              "<div>\n",
              "<style scoped>\n",
              "    .dataframe tbody tr th:only-of-type {\n",
              "        vertical-align: middle;\n",
              "    }\n",
              "\n",
              "    .dataframe tbody tr th {\n",
              "        vertical-align: top;\n",
              "    }\n",
              "\n",
              "    .dataframe thead th {\n",
              "        text-align: right;\n",
              "    }\n",
              "</style>\n",
              "<table border=\"1\" class=\"dataframe\">\n",
              "  <thead>\n",
              "    <tr style=\"text-align: right;\">\n",
              "      <th></th>\n",
              "      <th>kokugo</th>\n",
              "      <th>shakai</th>\n",
              "      <th>sugaku</th>\n",
              "      <th>rika</th>\n",
              "      <th>ongaku</th>\n",
              "      <th>bijutu</th>\n",
              "      <th>taiiku</th>\n",
              "      <th>gika</th>\n",
              "      <th>eigo</th>\n",
              "    </tr>\n",
              "  </thead>\n",
              "  <tbody>\n",
              "    <tr>\n",
              "      <th>kokugo</th>\n",
              "      <td>1.00</td>\n",
              "      <td>0.78</td>\n",
              "      <td>0.72</td>\n",
              "      <td>0.72</td>\n",
              "      <td>0.71</td>\n",
              "      <td>0.68</td>\n",
              "      <td>0.41</td>\n",
              "      <td>0.67</td>\n",
              "      <td>0.76</td>\n",
              "    </tr>\n",
              "    <tr>\n",
              "      <th>shakai</th>\n",
              "      <td>0.78</td>\n",
              "      <td>1.00</td>\n",
              "      <td>0.78</td>\n",
              "      <td>0.83</td>\n",
              "      <td>0.75</td>\n",
              "      <td>0.61</td>\n",
              "      <td>0.19</td>\n",
              "      <td>0.68</td>\n",
              "      <td>0.79</td>\n",
              "    </tr>\n",
              "    <tr>\n",
              "      <th>sugaku</th>\n",
              "      <td>0.72</td>\n",
              "      <td>0.78</td>\n",
              "      <td>1.00</td>\n",
              "      <td>0.82</td>\n",
              "      <td>0.75</td>\n",
              "      <td>0.58</td>\n",
              "      <td>0.15</td>\n",
              "      <td>0.58</td>\n",
              "      <td>0.80</td>\n",
              "    </tr>\n",
              "    <tr>\n",
              "      <th>rika</th>\n",
              "      <td>0.72</td>\n",
              "      <td>0.83</td>\n",
              "      <td>0.82</td>\n",
              "      <td>1.00</td>\n",
              "      <td>0.79</td>\n",
              "      <td>0.59</td>\n",
              "      <td>0.10</td>\n",
              "      <td>0.73</td>\n",
              "      <td>0.75</td>\n",
              "    </tr>\n",
              "    <tr>\n",
              "      <th>ongaku</th>\n",
              "      <td>0.71</td>\n",
              "      <td>0.75</td>\n",
              "      <td>0.75</td>\n",
              "      <td>0.79</td>\n",
              "      <td>1.00</td>\n",
              "      <td>0.65</td>\n",
              "      <td>0.30</td>\n",
              "      <td>0.59</td>\n",
              "      <td>0.70</td>\n",
              "    </tr>\n",
              "    <tr>\n",
              "      <th>bijutu</th>\n",
              "      <td>0.68</td>\n",
              "      <td>0.61</td>\n",
              "      <td>0.58</td>\n",
              "      <td>0.59</td>\n",
              "      <td>0.65</td>\n",
              "      <td>1.00</td>\n",
              "      <td>0.43</td>\n",
              "      <td>0.54</td>\n",
              "      <td>0.57</td>\n",
              "    </tr>\n",
              "    <tr>\n",
              "      <th>taiiku</th>\n",
              "      <td>0.41</td>\n",
              "      <td>0.19</td>\n",
              "      <td>0.15</td>\n",
              "      <td>0.10</td>\n",
              "      <td>0.30</td>\n",
              "      <td>0.43</td>\n",
              "      <td>1.00</td>\n",
              "      <td>0.15</td>\n",
              "      <td>0.28</td>\n",
              "    </tr>\n",
              "    <tr>\n",
              "      <th>gika</th>\n",
              "      <td>0.67</td>\n",
              "      <td>0.68</td>\n",
              "      <td>0.58</td>\n",
              "      <td>0.73</td>\n",
              "      <td>0.59</td>\n",
              "      <td>0.54</td>\n",
              "      <td>0.15</td>\n",
              "      <td>1.00</td>\n",
              "      <td>0.61</td>\n",
              "    </tr>\n",
              "    <tr>\n",
              "      <th>eigo</th>\n",
              "      <td>0.76</td>\n",
              "      <td>0.79</td>\n",
              "      <td>0.80</td>\n",
              "      <td>0.75</td>\n",
              "      <td>0.70</td>\n",
              "      <td>0.57</td>\n",
              "      <td>0.28</td>\n",
              "      <td>0.61</td>\n",
              "      <td>1.00</td>\n",
              "    </tr>\n",
              "  </tbody>\n",
              "</table>\n",
              "</div>"
            ],
            "text/plain": [
              "        kokugo  shakai  sugaku  rika  ongaku  bijutu  taiiku  gika  eigo\n",
              "kokugo    1.00    0.78    0.72  0.72    0.71    0.68    0.41  0.67  0.76\n",
              "shakai    0.78    1.00    0.78  0.83    0.75    0.61    0.19  0.68  0.79\n",
              "sugaku    0.72    0.78    1.00  0.82    0.75    0.58    0.15  0.58  0.80\n",
              "rika      0.72    0.83    0.82  1.00    0.79    0.59    0.10  0.73  0.75\n",
              "ongaku    0.71    0.75    0.75  0.79    1.00    0.65    0.30  0.59  0.70\n",
              "bijutu    0.68    0.61    0.58  0.59    0.65    1.00    0.43  0.54  0.57\n",
              "taiiku    0.41    0.19    0.15  0.10    0.30    0.43    1.00  0.15  0.28\n",
              "gika      0.67    0.68    0.58  0.73    0.59    0.54    0.15  1.00  0.61\n",
              "eigo      0.76    0.79    0.80  0.75    0.70    0.57    0.28  0.61  1.00"
            ]
          },
          "metadata": {},
          "execution_count": 69
        }
      ]
    },
    {
      "cell_type": "code",
      "metadata": {
        "colab": {
          "base_uri": "https://localhost:8080/",
          "height": 314
        },
        "id": "FbZqlS8Chvws",
        "outputId": "970156cc-4da3-407b-86e6-0ad8882fb18b"
      },
      "source": [
        "sns.heatmap(df_corr, cmap='hot_r', annot=True, fmt='.2f')"
      ],
      "execution_count": 79,
      "outputs": [
        {
          "output_type": "execute_result",
          "data": {
            "text/plain": [
              "<matplotlib.axes._subplots.AxesSubplot at 0x7fd0145224d0>"
            ]
          },
          "metadata": {},
          "execution_count": 79
        },
        {
          "output_type": "display_data",
          "data": {
            "image/png": "[encoded data removed]",
            "text/plain": [
              "<Figure size 432x288 with 2 Axes>"
            ]
          },
          "metadata": {
            "needs_background": "light"
          }
        }
      ]
    },
    {
      "cell_type": "code",
      "metadata": {
        "id": "fwAlsQ2ciSX8"
      },
      "source": [
        "# 主成分分析実行\n",
        "from sklearn.decomposition import PCA\n",
        "pca = PCA(n_components=6)\n",
        "feature = pca.fit(df)"
      ],
      "execution_count": 138,
      "outputs": []
    },
    {
      "cell_type": "code",
      "metadata": {
        "id": "WlrD3trHoXgC"
      },
      "source": [
        "# データを主成分空間に写像\n",
        "feature = pca.transform(df)"
      ],
      "execution_count": 139,
      "outputs": []
    },
    {
      "cell_type": "code",
      "metadata": {
        "colab": {
          "base_uri": "https://localhost:8080/",
          "height": 265
        },
        "id": "0rHbbeaDoZRC",
        "outputId": "92ccbb9f-a84c-42a3-8cc2-9444218c551c"
      },
      "source": [
        "x = feature[:,0]\n",
        "y = feature[:,1]\n",
        "plt.scatter(x,y)\n",
        "plt.show()"
      ],
      "execution_count": 140,
      "outputs": [
        {
          "output_type": "display_data",
          "data": {
            "image/png": "[encoded data removed]",
            "text/plain": [
              "<Figure size 432x288 with 1 Axes>"
            ]
          },
          "metadata": {
            "needs_background": "light"
          }
        }
      ]
    },
    {
      "cell_type": "code",
      "metadata": {
        "colab": {
          "base_uri": "https://localhost:8080/",
          "height": 297
        },
        "id": "88b0T0uhopTJ",
        "outputId": "933bbb3b-cc3b-4279-a1d8-8d12be6d7c1c"
      },
      "source": [
        "#第2主成分まででプロット\n",
        "plt.scatter(feature[:, 0], feature[:, 1], alpha=0.8, c=list(df.iloc[:, 0]))\n",
        "plt.grid()\n",
        "plt.xlabel(\"PC1\")\n",
        "plt.ylabel(\"PC2\")"
      ],
      "execution_count": 141,
      "outputs": [
        {
          "output_type": "execute_result",
          "data": {
            "text/plain": [
              "Text(0, 0.5, 'PC2')"
            ]
          },
          "metadata": {},
          "execution_count": 141
        },
        {
          "output_type": "display_data",
          "data": {
            "image/png": "[encoded data removed]",
            "text/plain": [
              "<Figure size 432x288 with 1 Axes>"
            ]
          },
          "metadata": {
            "needs_background": "light"
          }
        }
      ]
    },
    {
      "cell_type": "code",
      "metadata": {
        "colab": {
          "base_uri": "https://localhost:8080/"
        },
        "id": "enCNBptCqNFG",
        "outputId": "7d6f4e55-2e3a-4e44-bb66-f9fd97d5acf4"
      },
      "source": [
        "#寄与率表示(各成分の寄与度を百分率で表示、TTLが1になる)\n",
        "pca.explained_variance_ratio_"
      ],
      "execution_count": 142,
      "outputs": [
        {
          "output_type": "execute_result",
          "data": {
            "text/plain": [
              "array([0.94735983, 0.02231132, 0.00843234, 0.00650108, 0.00387181,\n",
              "       0.00335346])"
            ]
          },
          "metadata": {},
          "execution_count": 142
        }
      ]
    },
    {
      "cell_type": "code",
      "metadata": {
        "id": "Hi5k_xzSqNRI"
      },
      "source": [
        ""
      ],
      "execution_count": null,
      "outputs": []
    }
  ]
}